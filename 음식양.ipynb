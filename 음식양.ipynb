{
  "nbformat": 4,
  "nbformat_minor": 0,
  "metadata": {
    "colab": {
      "name": "0415.ipynb",
      "provenance": [],
      "collapsed_sections": [],
      "include_colab_link": true
    },
    "kernelspec": {
      "name": "python3",
      "display_name": "Python 3"
    },
    "language_info": {
      "name": "python"
    },
    "accelerator": "GPU"
  },
  "cells": [
    {
      "cell_type": "markdown",
      "metadata": {
        "id": "view-in-github",
        "colab_type": "text"
      },
      "source": [
        "<a href=\"https://colab.research.google.com/github/eunahheo/hello-world/blob/master/%EC%9D%8C%EC%8B%9D%EC%96%91.ipynb\" target=\"_parent\"><img src=\"https://colab.research.google.com/assets/colab-badge.svg\" alt=\"Open In Colab\"/></a>"
      ]
    },
    {
      "cell_type": "markdown",
      "source": [
        "### 구글 드라이브 연동"
      ],
      "metadata": {
        "id": "14BSpO9uHeTA"
      }
    },
    {
      "cell_type": "code",
      "execution_count": null,
      "metadata": {
        "colab": {
          "base_uri": "https://localhost:8080/"
        },
        "id": "AlBOomTFzf0L",
        "outputId": "674a87fb-c55b-47bb-8eef-3df1ff670819"
      },
      "outputs": [
        {
          "output_type": "stream",
          "name": "stdout",
          "text": [
            "Mounted at /content/drive\n"
          ]
        }
      ],
      "source": [
        "from google.colab import drive\n",
        "drive.mount('/content/drive', force_remount=True)"
      ]
    },
    {
      "cell_type": "markdown",
      "source": [
        "Colab에서 Conda 사용하기"
      ],
      "metadata": {
        "id": "0B2ZRb9ucoCs"
      }
    },
    {
      "cell_type": "code",
      "source": [
        "!which python # should return /usr/local/bin/python"
      ],
      "metadata": {
        "id": "BocKirXFcJhU"
      },
      "execution_count": null,
      "outputs": []
    },
    {
      "cell_type": "code",
      "source": [
        "!python --version"
      ],
      "metadata": {
        "id": "xw_xq5WZcKjw"
      },
      "execution_count": null,
      "outputs": []
    },
    {
      "cell_type": "code",
      "source": [
        "!echo $PYTHONPATH # /env/python"
      ],
      "metadata": {
        "id": "MIlsBz30cKrr"
      },
      "execution_count": null,
      "outputs": []
    },
    {
      "cell_type": "code",
      "source": [
        "%env PYTHONPATH="
      ],
      "metadata": {
        "id": "f0aD0FCQcKuS"
      },
      "execution_count": null,
      "outputs": []
    },
    {
      "cell_type": "code",
      "source": [
        "################################################################################\n",
        "# INSTALL CONDA ON GOOGLE COLAB\n",
        "################################################################################\n",
        "! wget https://repo.anaconda.com/miniconda/Miniconda3-py37_4.9.2-Linux-x86_64.sh\n",
        "! chmod +x Miniconda3-py37_4.9.2-Linux-x86_64.sh\n",
        "! bash ./Miniconda3-py37_4.9.2-Linux-x86_64.sh -b -f -p /usr/local\n",
        "import sys\n",
        "sys.path.append('/usr/local/lib/python3.7/site-packages/')"
      ],
      "metadata": {
        "id": "sHSfIA1IcKwl"
      },
      "execution_count": null,
      "outputs": []
    },
    {
      "cell_type": "code",
      "source": [
        "!which conda  # should return /usr/local/bin/conda"
      ],
      "metadata": {
        "id": "YDxb6ZSbcPgU"
      },
      "execution_count": null,
      "outputs": []
    },
    {
      "cell_type": "code",
      "source": [
        "!conda --version"
      ],
      "metadata": {
        "id": "aprTvjDvcPol"
      },
      "execution_count": null,
      "outputs": []
    },
    {
      "cell_type": "code",
      "source": [
        "!python --version"
      ],
      "metadata": {
        "id": "DS01tsaEcPvH"
      },
      "execution_count": null,
      "outputs": []
    },
    {
      "cell_type": "code",
      "source": [
        "# 구글 코랩이 설치된 폴더 안의 파일, 패키지 리스트\n",
        "\n",
        "!ls /usr/local/lib/python3.7/dist-packages"
      ],
      "metadata": {
        "id": "lxXCjhAfcT2Q"
      },
      "execution_count": null,
      "outputs": []
    },
    {
      "cell_type": "code",
      "source": [
        "!ls"
      ],
      "metadata": {
        "id": "_i96R1wWcVQl"
      },
      "execution_count": null,
      "outputs": []
    },
    {
      "cell_type": "code",
      "source": [
        "# requirements.txt 생성\n",
        "p = \"\"\"\n",
        "gensim==3.8.1\n",
        "pyLDAvis==2.1.2\n",
        "spacy==2.2.3\n",
        "scikit-learn==0.23.1\n",
        "seaborn==0.11.0\n",
        "squarify==0.4.3\n",
        "ipykernel\n",
        "nltk\n",
        "pandas\n",
        "scipy\n",
        "\"\"\"\n",
        "\n",
        "c = \"\"\"text_file = open(\"requirements.txt\", \"w+\");text_file.write(p);text_file.close()\"\"\" \n",
        "\n",
        "exec(c)"
      ],
      "metadata": {
        "id": "32i0XyrscWY0"
      },
      "execution_count": null,
      "outputs": []
    },
    {
      "cell_type": "code",
      "source": [
        "# 가상환경 만들기\n",
        "\n",
        "!conda create -n P41_NLP python==3.7"
      ],
      "metadata": {
        "id": "3YF1fpvOcXpJ"
      },
      "execution_count": null,
      "outputs": []
    },
    {
      "cell_type": "code",
      "source": [
        "# 먼저 가상환경 실행시키고 가상환경 확인\n",
        "!source activate P41_NLP && conda env list"
      ],
      "metadata": {
        "id": "bX-A6FgVcT7w"
      },
      "execution_count": null,
      "outputs": []
    },
    {
      "cell_type": "code",
      "source": [
        "!conda install --channel conda-forge --file requirements.txt --yes"
      ],
      "metadata": {
        "colab": {
          "base_uri": "https://localhost:8080/"
        },
        "id": "tDp097E6Qt-0",
        "outputId": "bea9b82e-2792-49fc-f493-9471fa2cd16b"
      },
      "execution_count": 52,
      "outputs": [
        {
          "output_type": "stream",
          "name": "stdout",
          "text": [
            "Collecting package metadata (current_repodata.json): - \b\b\\ \b\b| \b\b/ \b\b- \b\b\\ \b\b| \b\b/ \b\b- \b\b\\ \b\b| \b\b/ \b\b- \b\b\\ \b\b| \b\b/ \b\b- \b\b\\ \b\b| \b\b/ \b\bdone\n",
            "Solving environment: \\ \b\bfailed with initial frozen solve. Retrying with flexible solve.\n",
            "Collecting package metadata (repodata.json): / \b\b- \b\b\\ \b\b| \b\b/ \b\b- \b\b\\ \b\b| \b\b/ \b\b- \b\b\\ \b\b| \b\b/ \b\b- \b\b\\ \b\b| \b\b/ \b\b- \b\b\\ \b\b| \b\b/ \b\b- \b\b\\ \b\b| \b\b/ \b\b- \b\b\\ \b\b| \b\b/ \b\b- \b\b\\ \b\b| \b\b/ \b\b- \b\b\\ \b\b| \b\b/ \b\b- \b\b\\ \b\b| \b\b/ \b\b- \b\b\\ \b\b| \b\b/ \b\b- \b\b\\ \b\b| \b\b/ \b\b- \b\b\\ \b\b| \b\b/ \b\b- \b\b\\ \b\b| \b\b/ \b\b- \b\b\\ \b\b| \b\b/ \b\b- \b\b\\ \b\b| \b\b/ \b\b- \b\b\\ \b\b| \b\b/ \b\b- \b\b\\ \b\b| \b\b/ \b\b- \b\b\\ \b\b| \b\b/ \b\b- \b\b\\ \b\b| \b\b/ \b\b- \b\b\\ \b\bdone\n",
            "Solving environment: / \b\b- \b\b\\ \b\b| \b\b/ \b\b- \b\b\\ \b\b| \b\b/ \b\b- \b\b\\ \b\b| \b\b/ \b\b- \b\b\\ \b\b| \b\b/ \b\b- \b\b\\ \b\b| \b\b/ \b\b- \b\b\\ \b\b| \b\b/ \b\b- \b\b\\ \b\b| \b\b/ \b\b- \b\b\\ \b\b| \b\b/ \b\b- \b\b\\ \b\b| \b\b/ \b\b- \b\b\\ \b\b| \b\b/ \b\b- \b\b\\ \b\b| \b\b/ \b\b- \b\b\\ \b\b| \b\b/ \b\b- \b\b\\ \b\b| \b\b/ \b\b- \b\b\\ \b\b| \b\b/ \b\b- \b\b\\ \b\b| \b\b/ \b\b- \b\b\\ \b\b| \b\b/ \b\b- \b\b\\ \b\b| \b\b/ \b\b- \b\b\\ \b\b| \b\b/ \b\b- \b\b\\ \b\b| \b\b/ \b\b- \b\b\\ \b\b| \b\b/ \b\b- \b\b\\ \b\b| \b\b/ \b\b- \b\b\\ \b\b| \b\b/ \b\b- \b\b\\ \b\b| \b\b/ \b\b- \b\b\\ \b\b| \b\b/ \b\b- \b\b\\ \b\b| \b\b/ \b\b- \b\b\\ \b\b| \b\b/ \b\b- \b\b\\ \b\b| \b\b/ \b\b- \b\b\\ \b\b| \b\b/ \b\b- \b\b\\ \b\b| \b\b/ \b\b- \b\b\\ \b\b| \b\b/ \b\b- \b\b\\ \b\b| \b\b/ \b\b- \b\b\\ \b\b| \b\b/ \b\b- \b\b\\ \b\b| \b\b/ \b\b- \b\b\\ \b\b| \b\b/ \b\b- \b\b\\ \b\b| \b\b/ \b\b- \b\b\\ \b\b| \b\b/ \b\b- \b\b\\ \b\b| \b\b/ \b\b- \b\b\\ \b\b| \b\b/ \b\b- \b\b\\ \b\b| \b\b/ \b\b- \b\b\\ \b\b| \b\b/ \b\b- \b\b\\ \b\b| \b\b/ \b\b- \b\b\\ \b\b| \b\b/ \b\b- \b\b\\ \b\b| \b\b/ \b\b- \b\b\\ \b\b| \b\b/ \b\b- \b\b\\ \b\b| \b\b/ \b\b- \b\b\\ \b\b| \b\b/ \b\b- \b\b\\ \b\b| \b\b/ \b\b- \b\b\\ \b\b| \b\b/ \b\b- \b\b\\ \b\b| \b\b/ \b\b- \b\b\\ \b\b| \b\b/ \b\b- \b\b\\ \b\b| \b\b/ \b\b- \b\b\\ \b\b| \b\b/ \b\b- \b\b\\ \b\b| \b\b/ \b\b- \b\b\\ \b\b| \b\b/ \b\b- \b\b\\ \b\b| \b\b/ \b\b- \b\b\\ \b\b| \b\b/ \b\b- \b\b\\ \b\b| \b\b/ \b\b- \b\b\\ \b\b| \b\b/ \b\b- \b\b\\ \b\b| \b\b/ \b\b- \b\b\\ \b\b| \b\b/ \b\b- \b\b\\ \b\b| \b\b/ \b\b- \b\b\\ \b\b| \b\b/ \b\b- \b\b\\ \b\b| \b\b/ \b\b- \b\b\\ \b\b| \b\b/ \b\b- \b\b\\ \b\b| \b\b/ \b\b- \b\b\\ \b\b| \b\b/ \b\b- \b\b\\ \b\b| \b\b/ \b\b- \b\b\\ \b\b| \b\b/ \b\b- \b\b\\ \b\b| \b\b/ \b\b- \b\b\\ \b\b| \b\b/ \b\b- \b\b\\ \b\b| \b\b/ \b\b- \b\b\\ \b\b| \b\b/ \b\b- \b\b\\ \b\b| \b\b/ \b\b- \b\b\\ \b\b| \b\b/ \b\b- \b\b\\ \b\b| \b\b/ \b\b- \b\b\\ \b\b| \b\b/ \b\b- \b\b\\ \b\b| \b\b/ \b\b- \b\b\\ \b\b| \b\b/ \b\b- \b\b\\ \b\b| \b\b/ \b\b- \b\b\\ \b\b| \b\b/ \b\b- \b\b\\ \b\b| \b\b/ \b\b- \b\b\\ \b\b| \b\b/ \b\b- \b\b\\ \b\b| \b\b/ \b\b- \b\b\\ \b\b| \b\b/ \b\b- \b\b\\ \b\b| \b\b/ \b\b- \b\b\\ \b\b| \b\b/ \b\b- \b\b\\ \b\b| \b\b/ \b\b- \b\b\\ \b\b| \b\b/ \b\b- \b\b\\ \b\b| \b\b/ \b\b- \b\b\\ \b\b| \b\b/ \b\b- \b\b\\ \b\b| \b\b/ \b\b- \b\b\\ \b\b| \b\b/ \b\b- \b\b\\ \b\b| \b\b/ \b\b- \b\b\\ \b\b| \b\b/ \b\b- \b\b\\ \b\b| \b\b/ \b\b- \b\b\\ \b\b| \b\b/ \b\b- \b\b\\ \b\b| \b\b/ \b\b- \b\b\\ \b\b| \b\b/ \b\b- \b\b\\ \b\b| \b\b/ \b\b- \b\b\\ \b\b| \b\b/ \b\b- \b\b\\ \b\b| \b\b/ \b\b- \b\b\\ \b\b| \b\b/ \b\b- \b\b\\ \b\b| \b\b/ \b\b- \b\b\\ \b\b| \b\b/ \b\b- \b\b\\ \b\b| \b\b/ \b\b- \b\b\\ \b\b| \b\b/ \b\b- \b\b\\ \b\b| \b\b/ \b\b- \b\b\\ \b\b| \b\b/ \b\b- \b\b\\ \b\b| \b\b/ \b\b- \b\b\\ \b\b| \b\b/ \b\b- \b\b\\ \b\b| \b\b/ \b\b- \b\b\\ \b\b| \b\b/ \b\b- \b\b\\ \b\b| \b\b/ \b\b- \b\b\\ \b\b| \b\b/ \b\b- \b\b\\ \b\b| \b\b/ \b\b- \b\b\\ \b\b| \b\b/ \b\b- \b\b\\ \b\b| \b\b/ \b\b- \b\b\\ \b\b| \b\b/ \b\b- \b\b\\ \b\b| \b\b/ \b\b- \b\b\\ \b\b| \b\b/ \b\b- \b\b\\ \b\b| \b\b/ \b\b- \b\b\\ \b\b| \b\b/ \b\b- \b\b\\ \b\b| \b\b/ \b\b- \b\b\\ \b\b| \b\b/ \b\b- \b\b\\ \b\b| \b\b/ \b\b- \b\b\\ \b\b| \b\b/ \b\b- \b\b\\ \b\b| \b\b/ \b\b- \b\b\\ \b\b| \b\b/ \b\b- \b\b\\ \b\b| \b\b/ \b\b- \b\b\\ \b\b| \b\b/ \b\b- \b\b\\ \b\b| \b\b/ \b\b- \b\b\\ \b\b| \b\b/ \b\b- \b\b\\ \b\b| \b\b/ \b\b- \b\b\\ \b\b| \b\b/ \b\b- \b\b\\ \b\b| \b\b/ \b\b- \b\b\\ \b\b| \b\b/ \b\b- \b\b\\ \b\b| \b\b/ \b\b- \b\b\\ \b\b| \b\b/ \b\b- \b\b\\ \b\b| \b\b/ \b\b- \b\b\\ \b\b| \b\b/ \b\b- \b\b\\ \b\b| \b\b/ \b\b- \b\b\\ \b\b| \b\b/ \b\b- \b\b\\ \b\b| \b\b/ \b\b- \b\b\\ \b\b| \b\b/ \b\b- \b\b\\ \b\b| \b\b/ \b\b- \b\b\\ \b\b| \b\b/ \b\b- \b\b\\ \b\b| \b\b/ \b\b- \b\b\\ \b\b| \b\b/ \b\b- \b\b\\ \b\b| \b\b/ \b\b- \b\b\\ \b\b| \b\b/ \b\b- \b\b\\ \b\b| \b\b/ \b\b- \b\b\\ \b\b| \b\b/ \b\b- \b\b\\ \b\b| \b\b/ \b\b- \b\b\\ \b\b| \b\b/ \b\b- \b\b\\ \b\b| \b\b/ \b\b- \b\b\\ \b\b| \b\b/ \b\b- \b\b\\ \b\b| \b\b/ \b\b- \b\b\\ \b\b| \b\b/ \b\b- \b\b\\ \b\b| \b\b/ \b\b- \b\b\\ \b\b| \b\b/ \b\b- \b\b\\ \b\b| \b\b/ \b\b- \b\b\\ \b\b| \b\b/ \b\b- \b\b\\ \b\b| \b\b/ \b\b- \b\b\\ \b\b| \b\b/ \b\b- \b\b\\ \b\b| \b\b/ \b\b- \b\b\\ \b\b| \b\b/ \b\b- \b\b\\ \b\b| \b\b/ \b\b- \b\b\\ \b\b| \b\b/ \b\b- \b\b\\ \b\b| \b\b/ \b\b- \b\b\\ \b\b| \b\b/ \b\b- \b\b\\ \b\b| \b\b/ \b\b- \b\b\\ \b\b| \b\b/ \b\b- \b\b\\ \b\b| \b\b/ \b\b- \b\b\\ \b\b| \b\b/ \b\b- \b\b\\ \b\b| \b\b/ \b\b- \b\b\\ \b\b| \b\b/ \b\b- \b\b\\ \b\b| \b\b/ \b\b- \b\b\\ \b\b| \b\b/ \b\b- \b\b\\ \b\b| \b\b/ \b\b- \b\b\\ \b\b| \b\b/ \b\b- \b\b\\ \b\b| \b\b/ \b\b- \b\b\\ \b\b| \b\b/ \b\b- \b\b\\ \b\b| \b\b/ \b\b- \b\b\\ \b\b| \b\b/ \b\b- \b\b\\ \b\b| \b\b/ \b\b- \b\b\\ \b\b| \b\b/ \b\b- \b\b\\ \b\b| \b\b/ \b\b- \b\b\\ \b\b| \b\b/ \b\b- \b\b\\ \b\b| \b\b/ \b\b- \b\b\\ \b\b| \b\b/ \b\b- \b\b\\ \b\b| \b\b/ \b\b- \b\b\\ \b\b| \b\b/ \b\b- \b\b\\ \b\b| \b\b/ \b\b- \b\b\\ \b\b| \b\b/ \b\b- \b\b\\ \b\b| \b\b/ \b\b- \b\b\\ \b\b| \b\b/ \b\b- \b\b\\ \b\b| \b\b/ \b\b- \b\b\\ \b\b| \b\b/ \b\b- \b\b\\ \b\b| \b\b/ \b\b- \b\b\\ \b\b| \b\b/ \b\b- \b\b\\ \b\b| \b\b/ \b\b- \b\b\\ \b\b| \b\b/ \b\b- \b\b\\ \b\b| \b\b/ \b\b- \b\b\\ \b\b| \b\b/ \b\b- \b\b\\ \b\b| \b\b/ \b\b- \b\b\\ \b\b| \b\b/ \b\b- \b\b\\ \b\b| \b\b/ \b\b- \b\b\\ \b\b| \b\b/ \b\b- \b\b\\ \b\b| \b\b/ \b\b- \b\b\\ \b\b| \b\b/ \b\b- \b\b\\ \b\b| \b\b/ \b\b- \b\b\\ \b\b| \b\b/ \b\b- \b\b\\ \b\b| \b\b/ \b\b- \b\b\\ \b\b| \b\b/ \b\b- \b\b\\ \b\b| \b\b/ \b\b- \b\b\\ \b\b| \b\b/ \b\b- \b\b\\ \b\b| \b\b/ \b\b- \b\b\\ \b\b| \b\b/ \b\b- \b\b\\ \b\b| \b\b/ \b\b- \b\b\\ \b\b| \b\b/ \b\b- \b\b\\ \b\b| \b\b/ \b\b- \b\b\\ \b\b| \b\b/ \b\b- \b\b\\ \b\b| \b\b/ \b\b- \b\b\\ \b\b| \b\b/ \b\b- \b\b\\ \b\b| \b\b/ \b\b- \b\b\\ \b\b| \b\b/ \b\b- \b\b\\ \b\b| \b\b/ \b\b- \b\b\\ \b\b| \b\b/ \b\b- \b\b\\ \b\b| \b\b/ \b\b- \b\b\\ \b\b| \b\b/ \b\b- \b\b\\ \b\b| \b\b/ \b\b- \b\b\\ \b\b| \b\b/ \b\b- \b\b\\ \b\b| \b\b/ \b\b- \b\b\\ \b\b| \b\b/ \b\b- \b\b\\ \b\b| \b\b/ \b\b- \b\b\\ \b\b| \b\b/ \b\b- \b\b\\ \b\b| \b\b/ \b\b- \b\b\\ \b\b| \b\b/ \b\b- \b\b\\ \b\b| \b\b/ \b\b- \b\b\\ \b\b| \b\b/ \b\b- \b\b\\ \b\b| \b\b/ \b\b- \b\b\\ \b\b| \b\b/ \b\b- \b\b\\ \b\b| \b\b/ \b\b- \b\b\\ \b\b| \b\b/ \b\b- \b\b\\ \b\b| \b\b/ \b\b- \b\b\\ \b\b| \b\b/ \b\b- \b\b\\ \b\b| \b\b/ \b\b- \b\b\\ \b\b| \b\b/ \b\b- \b\b\\ \b\b| \b\b/ \b\b- \b\b\\ \b\b| \b\b/ \b\b- \b\b\\ \b\b| \b\b/ \b\b- \b\b\\ \b\b| \b\b/ \b\b- \b\b\\ \b\b| \b\b/ \b\b- \b\b\\ \b\b| \b\b/ \b\b- \b\b\\ \b\b| \b\b/ \b\b- \b\b\\ \b\b| \b\b/ \b\b- \b\b\\ \b\b| \b\b/ \b\b- \b\b\\ \b\b| \b\b/ \b\b- \b\b\\ \b\b| \b\b/ \b\b- \b\b\\ \b\b| \b\b/ \b\b- \b\b\\ \b\b| \b\b/ \b\b- \b\b\\ \b\b| \b\b/ \b\b- \b\b\\ \b\b| \b\b/ \b\b- \b\b\\ \b\b| \b\b/ \b\b- \b\b\\ \b\b| \b\b/ \b\b- \b\b\\ \b\b| \b\b/ \b\b- \b\b\\ \b\b| \b\b/ \b\b- \b\b\\ \b\b| \b\b/ \b\b- \b\b\\ \b\b| \b\b/ \b\b- \b\b\\ \b\b| \b\b/ \b\b- \b\b\\ \b\b| \b\b/ \b\b- \b\b\\ \b\b| \b\b/ \b\b- \b\b\\ \b\b| \b\b/ \b\b- \b\b\\ \b\b| \b\b/ \b\b- \b\b\\ \b\b| \b\b/ \b\b- \b\b\\ \b\b| \b\b/ \b\b- \b\b\\ \b\b| \b\b/ \b\b- \b\b\\ \b\b| \b\b/ \b\b- \b\b\\ \b\b| \b\b/ \b\b- \b\b\\ \b\b| \b\b/ \b\b- \b\b\\ \b\b| \b\b/ \b\b- \b\b\\ \b\b| \b\b/ \b\b- \b\b\\ \b\b| \b\b/ \b\b- \b\b\\ \b\b| \b\b/ \b\b- \b\b\\ \b\b| \b\b/ \b\b- \b\b\\ \b\b| \b\b/ \b\b- \b\b\\ \b\b| \b\b/ \b\b- \b\b\\ \b\b| \b\b/ \b\b- \b\b\\ \b\b| \b\b/ \b\b- \b\b\\ \b\b| \b\b/ \b\b- \b\b\\ \b\b| \b\b/ \b\b- \b\b\\ \b\b| \b\b/ \b\b- \b\b\\ \b\b| \b\b/ \b\b- \b\b\\ \b\b| \b\b/ \b\b- \b\b\\ \b\b| \b\b/ \b\b- \b\b\\ \b\b| \b\b/ \b\b- \b\b\\ \b\b| \b\b/ \b\b- \b\b\\ \b\b| \b\b/ \b\b- \b\b\\ \b\b| \b\b/ \b\b- \b\b\\ \b\b| \b\b/ \b\b- \b\b\\ \b\b| \b\b/ \b\b- \b\b\\ \b\b| \b\b/ \b\b- \b\b\\ \b\b| \b\b/ \b\b- \b\b\\ \b\b| \b\b/ \b\b- \b\b\\ \b\b| \b\b/ \b\b- \b\b\\ \b\b| \b\b/ \b\b- \b\b\\ \b\b| \b\b/ \b\b- \b\b\\ \b\b| \b\b/ \b\b- \b\b\\ \b\b| \b\b/ \b\b- \b\b\\ \b\b| \b\b/ \b\b- \b\b\\ \b\b| \b\b/ \b\b- \b\b\\ \b\b| \b\b/ \b\b- \b\b\\ \b\b| \b\b/ \b\b- \b\b\\ \b\b| \b\b/ \b\b- \b\b\\ \b\b| \b\b/ \b\b- \b\b\\ \b\b| \b\b/ \b\b- \b\b\\ \b\b| \b\b/ \b\b- \b\b\\ \b\b| \b\b/ \b\b- \b\b\\ \b\b| \b\b/ \b\b- \b\b\\ \b\b| \b\b/ \b\b- \b\b\\ \b\b| \b\b/ \b\b- \b\b\\ \b\b| \b\b/ \b\b- \b\b\\ \b\b| \b\b/ \b\b- \b\b\\ \b\b| \b\b/ \b\b- \b\b\\ \b\b| \b\b/ \b\b- \b\b\\ \b\b| \b\b/ \b\b- \b\b\\ \b\b| \b\b/ \b\b- \b\b\\ \b\b| \b\b/ \b\b- \b\b\\ \b\b| \b\b/ \b\b- \b\b\\ \b\b| \b\b/ \b\b- \b\b\\ \b\b| \b\b/ \b\b- \b\b\\ \b\b| \b\b/ \b\b- \b\b\\ \b\b| \b\b/ \b\b- \b\b\\ \b\b| \b\b/ \b\b- \b\b\\ \b\b| \b\b/ \b\b- \b\b\\ \b\b| \b\b/ \b\b- \b\b\\ \b\b| \b\b/ \b\b- \b\b\\ \b\b| \b\b/ \b\b- \b\b\\ \b\b| \b\b/ \b\b- \b\b\\ \b\b| \b\b/ \b\b- \b\b\\ \b\b| \b\b/ \b\b- \b\b\\ \b\b| \b\b/ \b\b- \b\b\\ \b\b| \b\b/ \b\b- \b\b\\ \b\b| \b\b/ \b\b- \b\b\\ \b\b| \b\b/ \b\b- \b\b\\ \b\b| \b\b/ \b\b- \b\b\\ \b\b| \b\b/ \b\b- \b\b\\ \b\b| \b\b/ \b\b- \b\b\\ \b\b| \b\b/ \b\b- \b\b\\ \b\b| \b\b/ \b\b- \b\b\\ \b\b| \b\b/ \b\b- \b\b\\ \b\b| \b\b/ \b\b- \b\b\\ \b\b| \b\b/ \b\b- \b\b\\ \b\b| \b\b/ \b\b- \b\b\\ \b\b| \b\b/ \b\b- \b\b\\ \b\b| \b\b/ \b\b- \b\b\\ \b\b| \b\b/ \b\b- \b\b\\ \b\b| \b\b/ \b\b- \b\b\\ \b\b| \b\b/ \b\b- \b\b\\ \b\b| \b\b/ \b\b- \b\b\\ \b\b| \b\b/ \b\b- \b\b\\ \b\b| \b\b/ \b\b- \b\b\\ \b\b| \b\b/ \b\b- \b\b\\ \b\b| \b\b/ \b\b- \b\b\\ \b\b| \b\b/ \b\b- \b\b\\ \b\b| \b\b/ \b\b- \b\b\\ \b\b| \b\b/ \b\b- \b\b\\ \b\b| \b\b/ \b\b- \b\b\\ \b\b| \b\b/ \b\b- \b\b\\ \b\b| \b\b/ \b\b- \b\b\\ \b\b| \b\b/ \b\b- \b\b\\ \b\b| \b\b/ \b\b- \b\b\\ \b\b| \b\b/ \b\b- \b\b\\ \b\b| \b\b/ \b\b- \b\b\\ \b\b| \b\b/ \b\b- \b\b\\ \b\b| \b\b/ \b\b- \b\b\\ \b\b| \b\b/ \b\b- \b\b\\ \b\b| \b\b/ \b\b- \b\b\\ \b\b| \b\b/ \b\b- \b\b\\ \b\b| \b\b/ \b\b- \b\b\\ \b\b| \b\b/ \b\b- \b\b\\ \b\b| \b\b/ \b\b- \b\b\\ \b\b| \b\b/ \b\b- \b\b\\ \b\b| \b\b/ \b\b- \b\b\\ \b\b| \b\b/ \b\b- \b\b\\ \b\b| \b\b/ \b\b- \b\b\\ \b\b| \b\b/ \b\b- \b\b\\ \b\b| \b\b/ \b\b- \b\b\\ \b\b| \b\b/ \b\b- \b\b\\ \b\b| \b\b/ \b\b- \b\b\\ \b\b| \b\b/ \b\b- \b\b\\ \b\b| \b\b/ \b\b- \b\b\\ \b\b| \b\b/ \b\b- \b\b\\ \b\b| \b\b/ \b\b- \b\b\\ \b\b| \b\b/ \b\b- \b\b\\ \b\b| \b\b/ \b\b- \b\b\\ \b\b| \b\b/ \b\b- \b\b\\ \b\b| \b\b/ \b\b- \b\b\\ \b\b| \b\b/ \b\b- \b\b\\ \b\b| \b\b/ \b\b- \b\b\\ \b\b| \b\b/ \b\b- \b\b\\ \b\b| \b\b/ \b\b- \b\b\\ \b\b| \b\b/ \b\b- \b\b\\ \b\b| \b\b/ \b\b- \b\b\\ \b\b| \b\b/ \b\b- \b\b\\ \b\b| \b\b/ \b\b- \b\b\\ \b\b| \b\b/ \b\b- \b\b\\ \b\b| \b\b/ \b\b- \b\b\\ \b\b| \b\b/ \b\b- \b\b\\ \b\b| \b\b/ \b\b- \b\b\\ \b\b| \b\b/ \b\b- \b\b\\ \b\b| \b\b/ \b\b- \b\b\\ \b\b| \b\b/ \b\b- \b\b\\ \b\b| \b\b/ \b\b- \b\b\\ \b\b| \b\b/ \b\b- \b\b\\ \b\b| \b\b/ \b\b- \b\b\\ \b\b| \b\b/ \b\b- \b\b\\ \b\b| \b\b/ \b\b- \b\b\\ \b\b| \b\b/ \b\b- \b\b\\ \b\b| \b\b/ \b\b- \b\b\\ \b\b| \b\b/ \b\b- \b\b\\ \b\b| \b\b/ \b\b- \b\b\\ \b\b| \b\b/ \b\b- \b\b\\ \b\b| \b\b/ \b\b- \b\b\\ \b\b| \b\b/ \b\b- \b\b\\ \b\b| \b\b/ \b\b- \b\b\\ \b\b| \b\b/ \b\b- \b\b\\ \b\b| \b\b/ \b\b- \b\b\\ \b\b| \b\b/ \b\b- \b\b\\ \b\b| \b\b/ \b\b- \b\b\\ \b\b| \b\b/ \b\b- \b\b\\ \b\b| \b\b/ \b\b- \b\b\\ \b\b| \b\b/ \b\b- \b\b\\ \b\b| \b\b/ \b\b- \b\b\\ \b\b| \b\b/ \b\b- \b\b\\ \b\b| \b\b/ \b\b- \b\b\\ \b\b| \b\b/ \b\b- \b\b\\ \b\b| \b\b/ \b\b- \b\b\\ \b\b| \b\b/ \b\b- \b\b\\ \b\b| \b\b/ \b\b- \b\b\\ \b\b| \b\b/ \b\b- \b\b\\ \b\b| \b\b/ \b\b- \b\b\\ \b\b| \b\b/ \b\b- \b\b\\ \b\b| \b\b/ \b\b- \b\b\\ \b\b| \b\b/ \b\b- \b\b\\ \b\b| \b\b/ \b\b- \b\b\\ \b\b| \b\b/ \b\b- \b\b\\ \b\b| \b\b/ \b\b- \b\b\\ \b\b| \b\b/ \b\b- \b\b\\ \b\b| \b\b/ \b\b- \b\b\\ \b\b| \b\b/ \b\b- \b\b\\ \b\b| \b\b/ \b\b- \b\b\\ \b\b| \b\b/ \b\b- \b\b\\ \b\b| \b\b/ \b\b- \b\b\\ \b\b| \b\b/ \b\b- \b\b\\ \b\b| \b\b/ \b\b- \b\b\\ \b\b| \b\b/ \b\b- \b\b\\ \b\b| \b\b/ \b\b- \b\b\\ \b\b| \b\b/ \b\b- \b\b\\ \b\b| \b\b/ \b\b- \b\b\\ \b\b| \b\b/ \b\b- \b\b\\ \b\b| \b\b/ \b\b- \b\b\\ \b\b| \b\b/ \b\b- \b\b\\ \b\b| \b\b/ \b\b- \b\b\\ \b\b| \b\b/ \b\b- \b\b\\ \b\b| \b\b/ \b\b- \b\b\\ \b\b| \b\b/ \b\b- \b\b\\ \b\b| \b\b/ \b\b- \b\b\\ \b\b| \b\b/ \b\b- \b\b\\ \b\b| \b\b/ \b\b- \b\b\\ \b\b| \b\b/ \b\b- \b\b\\ \b\b| \b\b/ \b\b- \b\b\\ \b\b| \b\b/ \b\b- \b\b\\ \b\b| \b\b/ \b\b- \b\b\\ \b\b| \b\b/ \b\b- \b\b\\ \b\b| \b\b/ \b\b- \b\b\\ \b\b| \b\b/ \b\b- \b\b\\ \b\b| \b\b/ \b\b- \b\b\\ \b\b| \b\b/ \b\b- \b\b\\ \b\b| \b\b/ \b\b- \b\b\\ \b\b| \b\b/ \b\b- \b\b\\ \b\b| \b\b/ \b\b- \b\b\\ \b\b| \b\b/ \b\b- \b\b\\ \b\b| \b\b/ \b\b- \b\b\\ \b\b| \b\b/ \b\b- \b\b\\ \b\b| \b\b/ \b\b- \b\b\\ \b\b| \b\b/ \b\b- \b\b\\ \b\b| \b\b/ \b\b- \b\b\\ \b\b| \b\b/ \b\b- \b\b\\ \b\b| \b\b/ \b\b- \b\b\\ \b\b| \b\b/ \b\b- \b\b\\ \b\b| \b\b/ \b\b- \b\b\\ \b\b| \b\b/ \b\b- \b\b\\ \b\b| \b\b/ \b\b- \b\b\\ \b\b| \b\b/ \b\b- \b\b\\ \b\b| \b\b/ \b\b- \b\b\\ \b\b| \b\b/ \b\b- \b\b\\ \b\b| \b\b/ \b\b- \b\b\\ \b\b| \b\b/ \b\b- \b\b\\ \b\b| \b\b/ \b\b- \b\b\\ \b\b| \b\b/ \b\b- \b\b\\ \b\b| \b\b/ \b\b- \b\b\\ \b\b| \b\b/ \b\b- \b\b\\ \b\b| \b\b/ \b\b- \b\b\\ \b\b| \b\b/ \b\b- \b\b\\ \b\b| \b\b/ \b\b- \b\b\\ \b\b| \b\b/ \b\b- \b\b\\ \b\b| \b\b/ \b\b- \b\b\\ \b\b| \b\b/ \b\b- \b\b\\ \b\b| \b\b/ \b\b- \b\b\\ \b\b| \b\b/ \b\b- \b\b\\ \b\b| \b\b/ \b\b- \b\b\\ \b\b| \b\b/ \b\b- \b\b\\ \b\b| \b\b/ \b\b- \b\b\\ \b\b| \b\b/ \b\b- \b\b\\ \b\b| \b\b/ \b\b- \b\b\\ \b\b| \b\b/ \b\b- \b\b\\ \b\b| \b\b/ \b\b- \b\b\\ \b\b| \b\b/ \b\b- \b\b\\ \b\b| \b\b/ \b\b- \b\b\\ \b\b| \b\b/ \b\b- \b\b\\ \b\b| \b\b/ \b\b- \b\b\\ \b\b| \b\b/ \b\b- \b\b\\ \b\b| \b\b/ \b\b- \b\b\\ \b\b| \b\b/ \b\b- \b\b\\ \b\b| \b\b/ \b\b- \b\b\\ \b\b| \b\b/ \b\b- \b\b\\ \b\b| \b\b/ \b\b- \b\b\\ \b\b| \b\b/ \b\b- \b\b\\ \b\b| \b\b/ \b\b- \b\b\\ \b\b| \b\b/ \b\b- \b\b\\ \b\b| \b\b/ \b\b- \b\b\\ \b\b| \b\b/ \b\b- \b\b\\ \b\b| \b\b/ \b\b- \b\b\\ \b\b| \b\b/ \b\b- \b\b\\ \b\b| \b\b/ \b\b- \b\b\\ \b\b| \b\b/ \b\b- \b\b\\ \b\b| \b\b/ \b\b- \b\b\\ \b\b| \b\b/ \b\b- \b\b\\ \b\b| \b\b/ \b\b- \b\b\\ \b\b| \b\b/ \b\b- \b\b\\ \b\b| \b\b/ \b\b- \b\b\\ \b\b| \b\b/ \b\b- \b\b\\ \b\b| \b\b/ \b\b- \b\b\\ \b\b| \b\b/ \b\b- \b\b\\ \b\b| \b\b/ \b\b- \b\b\\ \b\b| \b\b/ \b\b- \b\b\\ \b\b| \b\b/ \b\b- \b\b\\ \b\b| \b\b/ \b\b- \b\b\\ \b\b| \b\b/ \b\b- \b\b\\ \b\b| \b\b/ \b\b- \b\b\\ \b\b| \b\b/ \b\b- \b\b\\ \b\b| \b\b/ \b\b- \b\b\\ \b\b| \b\b/ \b\b- \b\b\\ \b\b| \b\b/ \b\b- \b\b\\ \b\b| \b\b/ \b\b- \b\b\\ \b\b| \b\b/ \b\b- \b\b\\ \b\b| \b\b/ \b\b- \b\b\\ \b\b| \b\b/ \b\b- \b\b\\ \b\b| \b\b/ \b\b- \b\b\\ \b\b| \b\b/ \b\b- \b\b\\ \b\b| \b\b/ \b\b- \b\b\\ \b\b| \b\b/ \b\b- \b\b\\ \b\b| \b\b/ \b\b- \b\b\\ \b\b| \b\b/ \b\b- \b\b\\ \b\b| \b\b/ \b\b- \b\b\\ \b\b| \b\b/ \b\b- \b\b\\ \b\b| \b\b/ \b\b- \b\b\\ \b\b| \b\b/ \b\b- \b\b\\ \b\b| \b\b/ \b\b- \b\b\\ \b\b| \b\b/ \b\b- \b\b\\ \b\b| \b\b/ \b\b- \b\b\\ \b\b| \b\b/ \b\b- \b\b\\ \b\b| \b\b/ \b\b- \b\b\\ \b\b| \b\b/ \b\b- \b\b\\ \b\b| \b\b/ \b\b- \b\b\\ \b\b| \b\b/ \b\b- \b\b\\ \b\b| \b\b/ \b\b- \b\b\\ \b\b| \b\b/ \b\b- \b\b\\ \b\b| \b\b/ \b\b- \b\b\\ \b\b| \b\b/ \b\b- \b\b\\ \b\b| \b\b/ \b\b- \b\b\\ \b\b| \b\b/ \b\b- \b\b\\ \b\b| \b\b/ \b\b- \b\b\\ \b\b| \b\b/ \b\b- \b\b\\ \b\b| \b\b/ \b\b- \b\b\\ \b\b| \b\b/ \b\b- \b\b\\ \b\b| \b\b/ \b\b- \b\b\\ \b\b| \b\b/ \b\b- \b\b\\ \b\b| \b\b/ \b\b- \b\b\\ \b\b| \b\b/ \b\b- \b\b\\ \b\b| \b\b/ \b\b- \b\b\\ \b\b| \b\b/ \b\b- \b\b\\ \b\b| \b\b/ \b\b- \b\b\\ \b\b| \b\b/ \b\b- \b\b\\ \b\b| \b\b/ \b\b- \b\b\\ \b\b| \b\b/ \b\b- \b\b\\ \b\b| \b\b/ \b\b- \b\b\\ \b\b| \b\b/ \b\b- \b\b\\ \b\b| \b\b/ \b\b- \b\b\\ \b\b| \b\b/ \b\b- \b\b\\ \b\b| \b\b/ \b\b- \b\b\\ \b\b| \b\b/ \b\b- \b\b\\ \b\b| \b\b/ \b\b- \b\b\\ \b\b| \b\b/ \b\b- \b\b\\ \b\b| \b\b/ \b\b- \b\b\\ \b\b| \b\b/ \b\b- \b\b\\ \b\b| \b\b/ \b\b- \b\b\\ \b\b| \b\b/ \b\b- \b\b\\ \b\b| \b\b/ \b\b- \b\b\\ \b\b| \b\b/ \b\b- \b\b\\ \b\b| \b\b/ \b\b- \b\b\\ \b\b| \b\b/ \b\b- \b\b\\ \b\b| \b\b/ \b\b- \b\b\\ \b\b| \b\b/ \b\b- \b\b\\ \b\b| \b\b/ \b\b- \b\b\\ \b\b| \b\b/ \b\b- \b\b\\ \b\b| \b\b/ \b\b- \b\b\\ \b\b| \b\b/ \b\b- \b\b\\ \b\b| \b\b/ \b\b- \b\b\\ \b\b| \b\b/ \b\b- \b\b\\ \b\b| \b\b/ \b\b- \b\b\\ \b\b| \b\b/ \b\b- \b\b\\ \b\b| \b\b/ \b\b- \b\b\\ \b\b| \b\b/ \b\b- \b\b\\ \b\b| \b\b/ \b\b- \b\b\\ \b\b| \b\b/ \b\b- \b\b\\ \b\b| \b\b/ \b\b- \b\b\\ \b\b| \b\b/ \b\b- \b\b\\ \b\b| \b\b/ \b\b- \b\b\\ \b\b| \b\b/ \b\b- \b\b\\ \b\b| \b\b/ \b\b- \b\b\\ \b\b| \b\b/ \b\b- \b\b\\ \b\b| \b\b/ \b\b- \b\b\\ \b\b| \b\b/ \b\b- \b\b\\ \b\b| \b\b/ \b\b- \b\b\\ \b\b| \b\b/ \b\b- \b\b\\ \b\b| \b\b/ \b\b- \b\b\\ \b\b| \b\b/ \b\b- \b\b\\ \b\b| \b\b/ \b\b- \b\b\\ \b\b| \b\b/ \b\b- \b\b\\ \b\b| \b\b/ \b\b- \b\b\\ \b\b| \b\b/ \b\b- \b\b\\ \b\b| \b\b/ \b\b- \b\b\\ \b\b| \b\b/ \b\b- \b\b\\ \b\b| \b\b/ \b\b- \b\b\\ \b\b| \b\b/ \b\b- \b\b\\ \b\b| \b\b/ \b\b- \b\b\\ \b\b| \b\b/ \b\b- \b\b\\ \b\b| \b\b/ \b\b- \b\b\\ \b\b| \b\b/ \b\b- \b\b\\ \b\b| \b\b/ \b\b- \b\b\\ \b\b| \b\b/ \b\b- \b\b\\ \b\b| \b\b/ \b\b- \b\b\\ \b\b| \b\b/ \b\b- \b\b\\ \b\b| \b\b/ \b\b- \b\b\\ \b\b| \b\b/ \b\b- \b\b\\ \b\b| \b\b/ \b\b- \b\b\\ \b\b| \b\b/ \b\b- \b\b\\ \b\b| \b\b/ \b\b- \b\b\\ \b\b| \b\b/ \b\b- \b\b\\ \b\b| \b\b/ \b\b- \b\b\\ \b\b| \b\b/ \b\b- \b\b\\ \b\b| \b\b/ \b\b- \b\b\\ \b\b| \b\b/ \b\b- \b\b\\ \b\b| \b\b/ \b\b- \b\b\\ \b\b| \b\b/ \b\b- \b\b\\ \b\b| \b\b/ \b\b- \b\b\\ \b\b| \b\b/ \b\b- \b\b\\ \b\b| \b\b/ \b\b- \b\b\\ \b\b| \b\b/ \b\b- \b\b\\ \b\b| \b\b/ \b\b- \b\b\\ \b\b| \b\b/ \b\b- \b\b\\ \b\b| \b\b/ \b\b- \b\b\\ \b\b| \b\b/ \b\b- \b\b\\ \b\b| \b\b/ \b\b- \b\b\\ \b\b| \b\b/ \b\b- \b\b\\ \b\b| \b\b/ \b\b- \b\b\\ \b\b| \b\b/ \b\b- \b\b\\ \b\b| \b\b/ \b\b- \b\b\\ \b\b| \b\b/ \b\b- \b\b\\ \b\b| \b\b/ \b\b- \b\b\\ \b\b| \b\b/ \b\b- \b\b\\ \b\b| \b\b/ \b\b- \b\b\\ \b\b| \b\b/ \b\b- \b\b\\ \b\b| \b\b/ \b\b- \b\b\\ \b\b| \b\b/ \b\b- \b\b\\ \b\b| \b\b/ \b\b- \b\b\\ \b\b| \b\b/ \b\b- \b\b\\ \b\b| \b\b/ \b\b- \b\b\\ \b\b| \b\b/ \b\b- \b\b\\ \b\b| \b\b/ \b\b- \b\b\\ \b\b| \b\b/ \b\b- \b\b\\ \b\b| \b\b/ \b\b- \b\b\\ \b\b| \b\b/ \b\b- \b\b\\ \b\b| \b\b/ \b\b- \b\b\\ \b\b| \b\b/ \b\b- \b\b\\ \b\b| \b\b/ \b\b- \b\b\\ \b\b| \b\b/ \b\b- \b\b\\ \b\b| \b\b/ \b\b- \b\b\\ \b\b| \b\b/ \b\b- \b\b\\ \b\b| \b\b/ \b\b- \b\b\\ \b\b| \b\b/ \b\b- \b\b\\ \b\b| \b\b/ \b\b- \b\b\\ \b\b| \b\b/ \b\b- \b\b\\ \b\b| \b\b/ \b\b- \b\b\\ \b\b| \b\b/ \b\b- \b\b\\ \b\b| \b\b/ \b\b- \b\b\\ \b\b| \b\b/ \b\b- \b\b\\ \b\b| \b\b/ \b\b- \b\b\\ \b\b| \b\b/ \b\b- \b\b\\ \b\b| \b\b/ \b\b- \b\b\\ \b\b| \b\b/ \b\b- \b\b\\ \b\b| \b\b/ \b\b- \b\b\\ \b\b| \b\b/ \b\b- \b\b\\ \b\b| \b\b/ \b\b- \b\b\\ \b\b| \b\b/ \b\b- \b\b\\ \b\b| \b\b/ \b\b- \b\b\\ \b\b| \b\b/ \b\b- \b\b\\ \b\b| \b\b/ \b\b- \b\b\\ \b\b| \b\b/ \b\b- \b\b\\ \b\b| \b\b/ \b\b- \b\b\\ \b\b| \b\b/ \b\b- \b\b\\ \b\b| \b\b/ \b\b- \b\b\\ \b\b| \b\b/ \b\b- \b\b\\ \b\b| \b\b/ \b\b- \b\b\\ \b\b| \b\b/ \b\b- \b\b\\ \b\b| \b\b/ \b\b- \b\b\\ \b\b| \b\b/ \b\b- \b\b\\ \b\b| \b\b/ \b\b- \b\b\\ \b\b| \b\b/ \b\b- \b\b\\ \b\b| \b\b/ \b\b- \b\b\\ \b\b| \b\b/ \b\b- \b\b\\ \b\b| \b\b/ \b\b- \b\b\\ \b\b| \b\b/ \b\b- \b\b\\ \b\b| \b\b/ \b\b- \b\b\\ \b\b| \b\b/ \b\b- \b\b\\ \b\b| \b\b/ \b\b- \b\b\\ \b\b| \b\b/ \b\b- \b\b\\ \b\b| \b\b/ \b\b- \b\b\\ \b\b| \b\b/ \b\b- \b\b\\ \b\b| \b\b/ \b\b- \b\b\\ \b\b| \b\b/ \b\b- \b\b\\ \b\b| \b\b/ \b\b- \b\b\\ \b\b| \b\b/ \b\b- \b\b\\ \b\b| \b\b/ \b\b- \b\b\\ \b\b| \b\b/ \b\b- \b\b\\ \b\b| \b\b/ \b\b- \b\b\\ \b\b| \b\b/ \b\b- \b\b\\ \b\b| \b\b/ \b\b- \b\b\\ \b\b| \b\b/ \b\b- \b\b\\ \b\b| \b\b/ \b\b- \b\b\\ \b\b| \b\b/ \b\b- \b\b\\ \b\b| \b\b/ \b\b- \b\b\\ \b\b| \b\b/ \b\b- \b\b\\ \b\b| \b\b/ \b\b- \b\b\\ \b\b| \b\b/ \b\b- \b\b\\ \b\b| \b\b/ \b\b- \b\b\\ \b\b| \b\b/ \b\b- \b\b\\ \b\b| \b\b/ \b\b- \b\b\\ \b\b| \b\b/ \b\b- \b\b\\ \b\b| \b\b/ \b\b- \b\b\\ \b\b| \b\b/ \b\b- \b\b\\ \b\b| \b\b/ \b\b- \b\b\\ \b\b| \b\b/ \b\b- \b\b\\ \b\b| \b\b/ \b\b- \b\b\\ \b\b| \b\b/ \b\b- \b\b\\ \b\b| \b\b/ \b\b- \b\b\\ \b\b| \b\b/ \b\b- \b\b\\ \b\b| \b\b/ \b\b- \b\b\\ \b\b| \b\b/ \b\b- \b\b\\ \b\b| \b\b/ \b\b- \b\b\\ \b\b| \b\b/ \b\b- \b\b\\ \b\b| \b\b/ \b\b- \b\b\\ \b\b| \b\b/ \b\b- \b\b\\ \b\b| \b\b/ \b\b- \b\b\\ \b\b| \b\b/ \b\b- \b\b\\ \b\b| \b\b/ \b\b- \b\b\\ \b\b| \b\b/ \b\b- \b\b\\ \b\b| \b\b/ \b\b- \b\b\\ \b\b| \b\b/ \b\b- \b\b\\ \b\b| \b\b/ \b\b- \b\b\\ \b\b| \b\b/ \b\b- \b\b\\ \b\b| \b\b/ \b\b- \b\b\\ \b\b| \b\b/ \b\b- \b\b\\ \b\b| \b\b/ \b\b- \b\b\\ \b\b| \b\b/ \b\b- \b\b\\ \b\b| \b\b/ \b\b- \b\b\\ \b\b| \b\b/ \b\b- \b\b\\ \b\b| \b\b/ \b\b- \b\b\\ \b\b| \b\b/ \b\b- \b\b\\ \b\b| \b\b/ \b\b- \b\b\\ \b\b| \b\b/ \b\b- \b\b\\ \b\b| \b\b/ \b\b- \b\b\\ \b\b| \b\b/ \b\b- \b\b\\ \b\b| \b\b/ \b\b- \b\b\\ \b\b| \b\b/ \b\b- \b\b\\ \b\b| \b\b/ \b\b- \b\b\\ \b\b| \b\b/ \b\b- \b\b\\ \b\b| \b\b/ \b\b- \b\b\\ \b\b| \b\b/ \b\b- \b\b\\ \b\b| \b\b/ \b\b- \b\b\\ \b\b| \b\b/ \b\b- \b\b\\ \b\b| \b\b/ \b\b- \b\b\\ \b\b| \b\b/ \b\b- \b\b\\ \b\b| \b\b/ \b\b- \b\b\\ \b\b| \b\b/ \b\b- \b\b\\ \b\b| \b\b/ \b\b- \b\b\\ \b\b| \b\b/ \b\b- \b\b\\ \b\b| \b\b/ \b\b- \b\b\\ \b\b| \b\b/ \b\b- \b\b\\ \b\b| \b\b/ \b\b- \b\b\\ \b\b| \b\b/ \b\b- \b\b\\ \b\b| \b\b/ \b\b- \b\b\\ \b\b| \b\b/ \b\b- \b\b\\ \b\b| \b\b/ \b\b- \b\b\\ \b\b| \b\b/ \b\b- \b\b\\ \b\b| \b\b/ \b\b- \b\b\\ \b\b| \b\b/ \b\b- \b\b\\ \b\b| \b\b/ \b\b- \b\b\\ \b\b| \b\b/ \b\b- \b\b\\ \b\b| \b\b/ \b\b- \b\b\\ \b\b| \b\b/ \b\b- \b\b\\ \b\b| \b\b/ \b\b- \b\b\\ \b\b| \b\b/ \b\b- \b\b\\ \b\b| \b\b/ \b\b- \b\b\\ \b\b| \b\b/ \b\b- \b\b\\ \b\b| \b\b/ \b\b- \b\b\\ \b\b| \b\b/ \b\b- \b\b\\ \b\b| \b\b/ \b\b- \b\b\\ \b\b| \b\b/ \b\b- \b\b\\ \b\b| \b\b/ \b\b- \b\b\\ \b\b| \b\b/ \b\b- \b\b\\ \b\b| \b\b/ \b\b- \b\b\\ \b\b| \b\b/ \b\b- \b\b\\ \b\b| \b\b/ \b\b- \b\b\\ \b\b| \b\b/ \b\b- \b\b\\ \b\b| \b\b/ \b\b- \b\b\\ \b\b| \b\b/ \b\b- \b\b\\ \b\b| \b\b/ \b\b- \b\b\\ \b\b| \b\b/ \b\b- \b\b\\ \b\b| \b\b/ \b\b- \b\b\\ \b\b| \b\b/ \b\b- \b\b\\ \b\b| \b\b/ \b\b- \b\b\\ \b\b| \b\b/ \b\b- \b\b\\ \b\b| \b\b/ \b\b- \b\b\\ \b\b| \b\b/ \b\b- \b\b\\ \b\b| \b\b/ \b\b- \b\b\\ \b\b| \b\b/ \b\b- \b\b\\ \b\b| \b\b/ \b\b- \b\b\\ \b\b| \b\b/ \b\b- \b\b\\ \b\b| \b\b/ \b\b- \b\b\\ \b\b| \b\b/ \b\b- \b\b\\ \b\b| \b\b/ \b\b- \b\b\\ \b\b| \b\b/ \b\b- \b\b\\ \b\b| \b\b/ \b\b- \b\b\\ \b\b| \b\b/ \b\b- \b\b\\ \b\b| \b\b/ \b\b- \b\b\\ \b\b| \b\b/ \b\b- \b\b\\ \b\b| \b\b/ \b\b- \b\b\\ \b\b| \b\b/ \b\b- \b\b\\ \b\b| \b\b/ \b\b- \b\b\\ \b\b| \b\b/ \b\b- \b\b\\ \b\b| \b\b/ \b\b- \b\b\\ \b\b| \b\b/ \b\b- \b\b\\ \b\b| \b\b/ \b\b- \b\b\\ \b\b| \b\b/ \b\b- \b\b\\ \b\b| \b\b/ \b\b- \b\b\\ \b\b| \b\b/ \b\b- \b\b\\ \b\b| \b\b/ \b\b- \b\b\\ \b\b| \b\b/ \b\b- \b\b\\ \b\b| \b\b/ \b\b- \b\b\\ \b\b| \b\b/ \b\b- \b\b\\ \b\b| \b\b/ \b\b- \b\b\\ \b\b| \b\b/ \b\b- \b\b\\ \b\b| \b\b/ \b\b- \b\b\\ \b\b| \b\b/ \b\b- \b\b\\ \b\b| \b\b/ \b\b- \b\b\\ \b\b| \b\b/ \b\b- \b\b\\ \b\b| \b\b/ \b\b- \b\b\\ \b\b| \b\b/ \b\b- \b\b\\ \b\b| \b\b/ \b\b- \b\b\\ \b\b| \b\b/ \b\b- \b\b\\ \b\b| \b\b/ \b\b- \b\b\\ \b\b| \b\b/ \b\b- \b\b\\ \b\b| \b\b/ \b\b- \b\b\\ \b\b| \b\b/ \b\b- \b\b\\ \b\b| \b\b/ \b\b- \b\b\\ \b\b| \b\b/ \b\b- \b\b\\ \b\b| \b\b/ \b\b- \b\b\\ \b\b| \b\b/ \b\b- \b\b\\ \b\b| \b\b/ \b\b- \b\b\\ \b\b| \b\b/ \b\b- \b\b\\ \b\b| \b\b/ \b\b- \b\b\\ \b\b| \b\b/ \b\b- \b\b\\ \b\b| \b\b/ \b\b- \b\b\\ \b\b| \b\b/ \b\b- \b\b\\ \b\b| \b\b/ \b\b- \b\b\\ \b\b| \b\b/ \b\b- \b\b\\ \b\b| \b\b/ \b\b- \b\b\\ \b\b| \b\b/ \b\b- \b\b\\ \b\b| \b\b/ \b\b- \b\b\\ \b\b| \b\b/ \b\b- \b\b\\ \b\b| \b\b/ \b\b- \b\b\\ \b\b| \b\b/ \b\b- \b\b\\ \b\b| \b\b/ \b\b- \b\b\\ \b\b| \b\b/ \b\b- \b\b\\ \b\b| \b\b/ \b\b- \b\b\\ \b\b| \b\b/ \b\b- \b\b\\ \b\b| \b\b/ \b\b- \b\b\\ \b\b| \b\b/ \b\b- \b\b\\ \b\b| \b\b/ \b\b- \b\b\\ \b\b| \b\b/ \b\b- \b\b\\ \b\b| \b\b/ \b\b- \b\b\\ \b\b| \b\b/ \b\b- \b\b\\ \b\b| \b\b/ \b\b- \b\b\\ \b\b| \b\b/ \b\b- \b\b\\ \b\b| \b\b/ \b\b- \b\b\\ \b\b| \b\b/ \b\b- \b\b\\ \b\b| \b\b/ \b\b- \b\b\\ \b\b| \b\b/ \b\b- \b\b\\ \b\b| \b\b/ \b\b- \b\b\\ \b\b| \b\b/ \b\b- \b\b\\ \b\b| \b\b/ \b\b- \b\b\\ \b\b| \b\b/ \b\b- \b\b\\ \b\b| \b\b/ \b\b- \b\b\\ \b\b| \b\b/ \b\b- \b\b\\ \b\b| \b\b/ \b\b- \b\b\\ \b\b| \b\b/ \b\b- \b\b\\ \b\b| \b\b/ \b\b- \b\b\\ \b\b| \b\b/ \b\b- \b\b\\ \b\b| \b\b/ \b\b- \b\b\\ \b\b| \b\b/ \b\b- \b\b\\ \b\b| \b\b/ \b\b- \b\b\\ \b\b| \b\b/ \b\b- \b\b\\ \b\b| \b\b/ \b\b- \b\b\\ \b\b| \b\b/ \b\b- \b\b\\ \b\b| \b\b/ \b\b- \b\b\\ \b\b| \b\b/ \b\b- \b\b\\ \b\b| \b\b/ \b\b- \b\b\\ \b\b| \b\b/ \b\b- \b\b\\ \b\b| \b\b/ \b\b- \b\b\\ \b\b| \b\b/ \b\b- \b\b\\ \b\b| \b\b/ \b\b- \b\b\\ \b\b| \b\b/ \b\b- \b\b\\ \b\b| \b\b/ \b\b- \b\b\\ \b\b| \b\b/ \b\b- \b\b\\ \b\b| \b\b/ \b\b- \b\b\\ \b\b| \b\b/ \b\b- \b\b\\ \b\b| \b\b/ \b\b- \b\b\\ \b\b| \b\b/ \b\b- \b\b\\ \b\b| \b\b/ \b\b- \b\b\\ \b\b| \b\b/ \b\b- \b\b\\ \b\b| \b\b/ \b\b- \b\b\\ \b\b| \b\b/ \b\b- \b\b\\ \b\b| \b\b/ \b\b- \b\b\\ \b\b| \b\b/ \b\b- \b\b\\ \b\b| \b\b/ \b\b- \b\b\\ \b\b| \b\b/ \b\b- \b\b\\ \b\b| \b\b/ \b\b- \b\b\\ \b\b| \b\b/ \b\b- \b\b\\ \b\b| \b\b/ \b\b- \b\b\\ \b\b| \b\b/ \b\b- \b\b\\ \b\b| \b\b/ \b\b- \b\b\\ \b\b| \b\b/ \b\b- \b\b\\ \b\b| \b\b/ \b\b- \b\b\\ \b\b| \b\b/ \b\b- \b\b\\ \b\b| \b\b/ \b\b- \b\b\\ \b\b| \b\b/ \b\b- \b\b\\ \b\b| \b\b/ \b\b- \b\b\\ \b\b| \b\b/ \b\b- \b\b\\ \b\b| \b\b/ \b\b- \b\b\\ \b\b| \b\b/ \b\b- \b\b\\ \b\b| \b\b/ \b\b- \b\b\\ \b\b| \b\b/ \b\b- \b\b\\ \b\b| \b\b/ \b\b- \b\b\\ \b\b| \b\b/ \b\b- \b\b\\ \b\b| \b\b/ \b\b- \b\b\\ \b\b| \b\b/ \b\b- \b\b\\ \b\b| \b\b/ \b\b- \b\b\\ \b\b| \b\b/ \b\b- \b\b\\ \b\b| \b\b/ \b\b- \b\b\\ \b\b| \b\b/ \b\b- \b\b\\ \b\b| \b\b/ \b\b- \b\b\\ \b\b| \b\b/ \b\b- \b\b\\ \b\b| \b\b/ \b\b- \b\b\\ \b\b| \b\b/ \b\b- \b\b\\ \b\b| \b\b/ \b\b- \b\b\\ \b\b| \b\b/ \b\b- \b\b\\ \b\b| \b\b/ \b\b- \b\b\\ \b\b| \b\b/ \b\b- \b\b\\ \b\b| \b\b/ \b\b- \b\b\\ \b\b| \b\b/ \b\b- \b\b\\ \b\b| \b\b/ \b\b- \b\b\\ \b\b| \b\b/ \b\b- \b\b\\ \b\b| \b\b/ \b\b- \b\b\\ \b\b| \b\b/ \b\b- \b\b\\ \b\b| \b\b/ \b\b- \b\b\\ \b\b| \b\b/ \b\b- \b\b\\ \b\b| \b\b/ \b\b- \b\b\\ \b\b| \b\b/ \b\b- \b\b\\ \b\b| \b\b/ \b\b- \b\b\\ \b\b| \b\b/ \b\b- \b\b\\ \b\b| \b\b/ \b\b- \b\b\\ \b\b| \b\b/ \b\b- \b\b\\ \b\b| \b\b/ \b\b- \b\b\\ \b\b| \b\b/ \b\b- \b\b\\ \b\b| \b\b/ \b\b- \b\b\\ \b\b| \b\b/ \b\b- \b\b\\ \b\b| \b\b/ \b\b- \b\b\\ \b\b| \b\b/ \b\b- \b\b\\ \b\b| \b\b/ \b\b- \b\b\\ \b\b| \b\b/ \b\b- \b\b\\ \b\b| \b\b/ \b\b- \b\b\\ \b\b| \b\b/ \b\b- \b\b\\ \b\b| \b\b/ \b\b- \b\b\\ \b\b| \b\b/ \b\b- \b\b\\ \b\b| \b\b/ \b\b- \b\b\\ \b\b| \b\b/ \b\b- \b\b\\ \b\b| \b\b/ \b\b- \b\b\\ \b\b| \b\b/ \b\b- \b\b\\ \b\b| \b\b/ \b\b- \b\b\\ \b\b| \b\b/ \b\b- \b\b\\ \b\b| \b\b/ \b\b- \b\b\\ \b\b| \b\b/ \b\b- \b\b\\ \b\b| \b\b/ \b\b- \b\b\\ \b\b| \b\b/ \b\b- \b\b\\ \b\b| \b\b/ \b\b- \b\b\\ \b\b| \b\b/ \b\b- \b\b\\ \b\b| \b\b/ \b\b- \b\b\\ \b\b| \b\b/ \b\b- \b\b\\ \b\b| \b\b/ \b\b- \b\b\\ \b\b| \b\b/ \b\b- \b\b\\ \b\b| \b\b/ \b\b- \b\b\\ \b\b| \b\b/ \b\b- \b\b\\ \b\b| \b\b/ \b\b- \b\b\\ \b\b| \b\b/ \b\b- \b\b\\ \b\b| \b\b/ \b\b- \b\b\\ \b\b| \b\b/ \b\b- \b\b\\ \b\b| \b\b/ \b\b- \b\b\\ \b\b| \b\b/ \b\b- \b\b\\ \b\b| \b\b/ \b\b- \b\b\\ \b\b| \b\b/ \b\b- \b\b\\ \b\b| \b\b/ \b\b- \b\b\\ \b\b| \b\b/ \b\b- \b\b\\ \b\b| \b\b/ \b\b- \b\b\\ \b\b| \b\b/ \b\b- \b\b\\ \b\b| \b\b/ \b\b- \b\b\\ \b\b| \b\b/ \b\b- \b\b\\ \b\b| \b\b/ \b\b- \b\b\\ \b\b| \b\b/ \b\b- \b\b\\ \b\b| \b\b/ \b\b- \b\b\\ \b\b| \b\b/ \b\b- \b\b\\ \b\b| \b\b/ \b\b- \b\b\\ \b\b| \b\b/ \b\b- \b\b\\ \b\b| \b\b/ \b\b- \b\b\\ \b\b| \b\b/ \b\b- \b\b\\ \b\b| \b\b/ \b\b- \b\b\\ \b\b| \b\b/ \b\b- \b\b\\ \b\b| \b\b/ \b\b- \b\b\\ \b\b| \b\b/ \b\b- \b\b\\ \b\b| \b\b/ \b\b- \b\b\\ \b\b| \b\b/ \b\b- \b\b\\ \b\b| \b\b/ \b\b- \b\b\\ \b\b| \b\b/ \b\b- \b\b\\ \b\b| \b\b/ \b\b- \b\b\\ \b\b| \b\b/ \b\b- \b\b\\ \b\b| \b\b/ \b\b- \b\b\\ \b\b| \b\b/ \b\b- \b\b\\ \b\b| \b\b/ \b\b- \b\b\\ \b\b| \b\b/ \b\b- \b\b\\ \b\b| \b\b/ \b\b- \b\b\\ \b\b| \b\b/ \b\b- \b\b\\ \b\b| \b\b/ \b\b- \b\b\\ \b\b| \b\b/ \b\b- \b\b\\ \b\b| \b\b/ \b\b- \b\b\\ \b\b| \b\b/ \b\b- \b\b\\ \b\b| \b\b/ \b\b- \b\b\\ \b\b| \b\b/ \b\b- \b\b\\ \b\b| \b\b/ \b\b- \b\b\\ \b\b| \b\b/ \b\b- \b\b\\ \b\b| \b\bdone\n",
            "\n",
            "## Package Plan ##\n",
            "\n",
            "  environment location: /usr/local\n",
            "\n",
            "  added / updated specs:\n",
            "    - gensim==3.8.1\n",
            "    - ipykernel\n",
            "    - nltk\n",
            "    - pandas\n",
            "    - pyldavis==2.1.2\n",
            "    - scikit-learn==0.23.1\n",
            "    - scipy\n",
            "    - seaborn==0.11.0\n",
            "    - spacy==2.2.3\n",
            "    - squarify==0.4.3\n",
            "\n",
            "\n",
            "The following packages will be downloaded:\n",
            "\n",
            "    package                    |            build\n",
            "    ---------------------------|-----------------\n",
            "    attrs-21.4.0               |     pyhd8ed1ab_0          49 KB  conda-forge\n",
            "    catalogue-1.0.0            |   py37h89c1867_3          13 KB  conda-forge\n",
            "    click-8.1.2                |   py37h89c1867_0         145 KB  conda-forge\n",
            "    cycler-0.11.0              |     pyhd8ed1ab_0          10 KB  conda-forge\n",
            "    cymem-2.0.6                |   py37hd23a5d3_3          42 KB  conda-forge\n",
            "    cython-blis-0.4.1          |   py37h8f50634_1         4.3 MB  conda-forge\n",
            "    debugpy-1.6.0              |   py37hd23a5d3_0         2.0 MB  conda-forge\n",
            "    freetype-2.10.4            |       h0708190_1         890 KB  conda-forge\n",
            "    funcy-1.17                 |     pyhd8ed1ab_0          30 KB  conda-forge\n",
            "    future-0.18.2              |   py37h89c1867_5         713 KB  conda-forge\n",
            "    gensim-3.8.1               |   py37he1b5a44_1        22.7 MB  conda-forge\n",
            "    importlib-metadata-4.11.3  |   py37h89c1867_1          33 KB  conda-forge\n",
            "    importlib_metadata-4.11.3  |       hd8ed1ab_1           4 KB  conda-forge\n",
            "    importlib_resources-5.7.1  |     pyhd8ed1ab_0          22 KB  conda-forge\n",
            "    ipykernel-6.13.0           |   py37h25bab4e_0         185 KB  conda-forge\n",
            "    jinja2-3.1.1               |     pyhd8ed1ab_0          99 KB  conda-forge\n",
            "    joblib-1.1.0               |     pyhd8ed1ab_0         210 KB  conda-forge\n",
            "    jpeg-9e                    |       h7f98852_0         269 KB  conda-forge\n",
            "    jsonschema-4.4.0           |     pyhd8ed1ab_0          57 KB  conda-forge\n",
            "    kiwisolver-1.4.2           |   py37h7cecad7_1          73 KB  conda-forge\n",
            "    lcms2-2.12                 |       hddcbb42_0         443 KB  conda-forge\n",
            "    libblas-3.9.0              |14_linux64_openblas          12 KB  conda-forge\n",
            "    libcblas-3.9.0             |14_linux64_openblas          12 KB  conda-forge\n",
            "    libgfortran-ng-11.2.0      |      h69a702a_15          23 KB  conda-forge\n",
            "    libgfortran5-11.2.0        |      h5c6108e_15         1.7 MB  conda-forge\n",
            "    liblapack-3.9.0            |14_linux64_openblas          12 KB  conda-forge\n",
            "    libopenblas-0.3.20         |pthreads_h78a6416_0        10.1 MB  conda-forge\n",
            "    libpng-1.6.37              |       h21135ba_2         306 KB  conda-forge\n",
            "    libtiff-4.2.0              |       hbd63e13_2         639 KB  conda-forge\n",
            "    libwebp-base-1.2.2         |       h7f98852_1         824 KB  conda-forge\n",
            "    markupsafe-2.1.1           |   py37h540881e_1          22 KB  conda-forge\n",
            "    matplotlib-base-3.4.3      |   py37h1058ff1_0         7.2 MB  conda-forge\n",
            "    murmurhash-1.0.6           |   py37hd23a5d3_3          26 KB  conda-forge\n",
            "    nltk-3.6.7                 |     pyhd8ed1ab_0         1.1 MB  conda-forge\n",
            "    nomkl-1.0                  |       h5ca1d4c_0           4 KB  conda-forge\n",
            "    numexpr-2.8.0              | py37h85a3170_102         133 KB  conda-forge\n",
            "    numpy-1.21.6               |   py37h976b520_0         6.1 MB  conda-forge\n",
            "    olefile-0.46               |     pyh9f0ad1d_1          32 KB  conda-forge\n",
            "    openjpeg-2.4.0             |       hb52868f_1         444 KB  conda-forge\n",
            "    openssl-1.1.1n             |       h166bdaf_0         2.1 MB  conda-forge\n",
            "    packaging-21.3             |     pyhd8ed1ab_0          36 KB  conda-forge\n",
            "    pandas-1.3.5               |   py37he8f5f7f_0        12.7 MB  conda-forge\n",
            "    patsy-0.5.2                |     pyhd8ed1ab_0         188 KB  conda-forge\n",
            "    pillow-8.2.0               |   py37h4600e1f_1         684 KB  conda-forge\n",
            "    plac-0.9.6                 |             py_1          18 KB  conda-forge\n",
            "    preshed-3.0.6              |   py37hd23a5d3_2         117 KB  conda-forge\n",
            "    psutil-5.9.0               |   py37h540881e_1         342 KB  conda-forge\n",
            "    pyldavis-2.1.2             |     pyhd8ed1ab_1          84 KB  conda-forge\n",
            "    pyparsing-3.0.8            |     pyhd8ed1ab_0          79 KB  conda-forge\n",
            "    pyrsistent-0.18.1          |   py37h540881e_1          91 KB  conda-forge\n",
            "    pytz-2022.1                |     pyhd8ed1ab_0         242 KB  conda-forge\n",
            "    regex-2022.3.15            |   py37h540881e_1         375 KB  conda-forge\n",
            "    scikit-learn-0.23.1        |   py37h8a51577_0         6.8 MB  conda-forge\n",
            "    scipy-1.7.3                |   py37hf2a6cf1_0        21.8 MB  conda-forge\n",
            "    seaborn-0.11.0             |       ha770c72_1           4 KB  conda-forge\n",
            "    seaborn-base-0.11.0        |     pyhd8ed1ab_1         216 KB  conda-forge\n",
            "    smart_open-5.2.1           |     pyhd8ed1ab_0          43 KB  conda-forge\n",
            "    spacy-2.2.3                |   py37hc9558a2_0         9.1 MB  conda-forge\n",
            "    squarify-0.4.3             |             py_0           7 KB  conda-forge\n",
            "    srsly-1.0.5                |   py37hcd2ae1e_0         209 KB  conda-forge\n",
            "    statsmodels-0.13.2         |   py37hb1e94ed_0        11.4 MB  conda-forge\n",
            "    thinc-7.3.0                |   py37hc9558a2_0         1.7 MB  conda-forge\n",
            "    threadpoolctl-3.1.0        |     pyh8a188c0_0          18 KB  conda-forge\n",
            "    typing-extensions-4.1.1    |       hd8ed1ab_0           8 KB  conda-forge\n",
            "    typing_extensions-4.1.1    |     pyha770c72_0          29 KB  conda-forge\n",
            "    wasabi-0.9.1               |     pyhd8ed1ab_0          25 KB  conda-forge\n",
            "    zipp-3.8.0                 |     pyhd8ed1ab_0          12 KB  conda-forge\n",
            "    ------------------------------------------------------------\n",
            "                                           Total:       129.3 MB\n",
            "\n",
            "The following NEW packages will be INSTALLED:\n",
            "\n",
            "  attrs              conda-forge/noarch::attrs-21.4.0-pyhd8ed1ab_0\n",
            "  catalogue          conda-forge/linux-64::catalogue-1.0.0-py37h89c1867_3\n",
            "  click              conda-forge/linux-64::click-8.1.2-py37h89c1867_0\n",
            "  cycler             conda-forge/noarch::cycler-0.11.0-pyhd8ed1ab_0\n",
            "  cymem              conda-forge/linux-64::cymem-2.0.6-py37hd23a5d3_3\n",
            "  cython-blis        conda-forge/linux-64::cython-blis-0.4.1-py37h8f50634_1\n",
            "  debugpy            conda-forge/linux-64::debugpy-1.6.0-py37hd23a5d3_0\n",
            "  freetype           conda-forge/linux-64::freetype-2.10.4-h0708190_1\n",
            "  funcy              conda-forge/noarch::funcy-1.17-pyhd8ed1ab_0\n",
            "  future             conda-forge/linux-64::future-0.18.2-py37h89c1867_5\n",
            "  gensim             conda-forge/linux-64::gensim-3.8.1-py37he1b5a44_1\n",
            "  importlib-metadata conda-forge/linux-64::importlib-metadata-4.11.3-py37h89c1867_1\n",
            "  importlib_metadata conda-forge/noarch::importlib_metadata-4.11.3-hd8ed1ab_1\n",
            "  importlib_resourc~ conda-forge/noarch::importlib_resources-5.7.1-pyhd8ed1ab_0\n",
            "  jinja2             conda-forge/noarch::jinja2-3.1.1-pyhd8ed1ab_0\n",
            "  joblib             conda-forge/noarch::joblib-1.1.0-pyhd8ed1ab_0\n",
            "  jpeg               conda-forge/linux-64::jpeg-9e-h7f98852_0\n",
            "  jsonschema         conda-forge/noarch::jsonschema-4.4.0-pyhd8ed1ab_0\n",
            "  kiwisolver         conda-forge/linux-64::kiwisolver-1.4.2-py37h7cecad7_1\n",
            "  lcms2              conda-forge/linux-64::lcms2-2.12-hddcbb42_0\n",
            "  libblas            conda-forge/linux-64::libblas-3.9.0-14_linux64_openblas\n",
            "  libcblas           conda-forge/linux-64::libcblas-3.9.0-14_linux64_openblas\n",
            "  libgfortran-ng     conda-forge/linux-64::libgfortran-ng-11.2.0-h69a702a_15\n",
            "  libgfortran5       conda-forge/linux-64::libgfortran5-11.2.0-h5c6108e_15\n",
            "  liblapack          conda-forge/linux-64::liblapack-3.9.0-14_linux64_openblas\n",
            "  libopenblas        conda-forge/linux-64::libopenblas-0.3.20-pthreads_h78a6416_0\n",
            "  libpng             conda-forge/linux-64::libpng-1.6.37-h21135ba_2\n",
            "  libtiff            conda-forge/linux-64::libtiff-4.2.0-hbd63e13_2\n",
            "  libwebp-base       conda-forge/linux-64::libwebp-base-1.2.2-h7f98852_1\n",
            "  markupsafe         conda-forge/linux-64::markupsafe-2.1.1-py37h540881e_1\n",
            "  matplotlib-base    conda-forge/linux-64::matplotlib-base-3.4.3-py37h1058ff1_0\n",
            "  murmurhash         conda-forge/linux-64::murmurhash-1.0.6-py37hd23a5d3_3\n",
            "  nltk               conda-forge/noarch::nltk-3.6.7-pyhd8ed1ab_0\n",
            "  nomkl              conda-forge/noarch::nomkl-1.0-h5ca1d4c_0\n",
            "  numexpr            conda-forge/linux-64::numexpr-2.8.0-py37h85a3170_102\n",
            "  numpy              conda-forge/linux-64::numpy-1.21.6-py37h976b520_0\n",
            "  olefile            conda-forge/noarch::olefile-0.46-pyh9f0ad1d_1\n",
            "  openjpeg           conda-forge/linux-64::openjpeg-2.4.0-hb52868f_1\n",
            "  packaging          conda-forge/noarch::packaging-21.3-pyhd8ed1ab_0\n",
            "  pandas             conda-forge/linux-64::pandas-1.3.5-py37he8f5f7f_0\n",
            "  patsy              conda-forge/noarch::patsy-0.5.2-pyhd8ed1ab_0\n",
            "  pillow             conda-forge/linux-64::pillow-8.2.0-py37h4600e1f_1\n",
            "  plac               conda-forge/noarch::plac-0.9.6-py_1\n",
            "  preshed            conda-forge/linux-64::preshed-3.0.6-py37hd23a5d3_2\n",
            "  psutil             conda-forge/linux-64::psutil-5.9.0-py37h540881e_1\n",
            "  pyldavis           conda-forge/noarch::pyldavis-2.1.2-pyhd8ed1ab_1\n",
            "  pyparsing          conda-forge/noarch::pyparsing-3.0.8-pyhd8ed1ab_0\n",
            "  pyrsistent         conda-forge/linux-64::pyrsistent-0.18.1-py37h540881e_1\n",
            "  pytz               conda-forge/noarch::pytz-2022.1-pyhd8ed1ab_0\n",
            "  regex              conda-forge/linux-64::regex-2022.3.15-py37h540881e_1\n",
            "  scikit-learn       conda-forge/linux-64::scikit-learn-0.23.1-py37h8a51577_0\n",
            "  scipy              conda-forge/linux-64::scipy-1.7.3-py37hf2a6cf1_0\n",
            "  seaborn            conda-forge/linux-64::seaborn-0.11.0-ha770c72_1\n",
            "  seaborn-base       conda-forge/noarch::seaborn-base-0.11.0-pyhd8ed1ab_1\n",
            "  smart_open         conda-forge/noarch::smart_open-5.2.1-pyhd8ed1ab_0\n",
            "  spacy              conda-forge/linux-64::spacy-2.2.3-py37hc9558a2_0\n",
            "  squarify           conda-forge/noarch::squarify-0.4.3-py_0\n",
            "  srsly              conda-forge/linux-64::srsly-1.0.5-py37hcd2ae1e_0\n",
            "  statsmodels        conda-forge/linux-64::statsmodels-0.13.2-py37hb1e94ed_0\n",
            "  thinc              conda-forge/linux-64::thinc-7.3.0-py37hc9558a2_0\n",
            "  threadpoolctl      conda-forge/noarch::threadpoolctl-3.1.0-pyh8a188c0_0\n",
            "  typing-extensions  conda-forge/noarch::typing-extensions-4.1.1-hd8ed1ab_0\n",
            "  typing_extensions  conda-forge/noarch::typing_extensions-4.1.1-pyha770c72_0\n",
            "  wasabi             conda-forge/noarch::wasabi-0.9.1-pyhd8ed1ab_0\n",
            "  zipp               conda-forge/noarch::zipp-3.8.0-pyhd8ed1ab_0\n",
            "\n",
            "The following packages will be UPDATED:\n",
            "\n",
            "  ipykernel                            5.5.5-py37h085eea5_0 --> 6.13.0-py37h25bab4e_0\n",
            "  libgcc-ng                               9.3.0-h2828fa1_18 --> 11.2.0-h1d223b6_15\n",
            "  libgomp                                 9.3.0-h2828fa1_18 --> 11.2.0-h1d223b6_15\n",
            "  libstdcxx-ng                            9.3.0-h6de172a_18 --> 11.2.0-he4da1e4_15\n",
            "  openssl                                 1.1.1j-h7f98852_0 --> 1.1.1n-h166bdaf_0\n",
            "\n",
            "\n",
            "\n",
            "Downloading and Extracting Packages\n",
            "openjpeg-2.4.0       | 444 KB    | : 100% 1.0/1 [00:00<00:00,  6.14it/s]\n",
            "plac-0.9.6           | 18 KB     | : 100% 1.0/1 [00:00<00:00, 30.51it/s]\n",
            "numexpr-2.8.0        | 133 KB    | : 100% 1.0/1 [00:00<00:00, 18.23it/s]\n",
            "murmurhash-1.0.6     | 26 KB     | : 100% 1.0/1 [00:00<00:00, 24.26it/s]\n",
            "pyrsistent-0.18.1    | 91 KB     | : 100% 1.0/1 [00:00<00:00, 17.58it/s]\n",
            "gensim-3.8.1         | 22.7 MB   | : 100% 1.0/1 [00:05<00:00,  5.09s/it]               \n",
            "pytz-2022.1          | 242 KB    | : 100% 1.0/1 [00:00<00:00,  7.72it/s]\n",
            "threadpoolctl-3.1.0  | 18 KB     | : 100% 1.0/1 [00:00<00:00, 29.42it/s]\n",
            "squarify-0.4.3       | 7 KB      | : 100% 1.0/1 [00:00<00:00,  3.46it/s]\n",
            "pandas-1.3.5         | 12.7 MB   | : 100% 1.0/1 [00:02<00:00,  2.67s/it]               \n",
            "preshed-3.0.6        | 117 KB    | : 100% 1.0/1 [00:00<00:00, 18.63it/s]\n",
            "libgfortran5-11.2.0  | 1.7 MB    | : 100% 1.0/1 [00:00<00:00,  2.50it/s]\n",
            "nltk-3.6.7           | 1.1 MB    | : 100% 1.0/1 [00:00<00:00,  3.29it/s]\n",
            "pillow-8.2.0         | 684 KB    | : 100% 1.0/1 [00:00<00:00,  6.15it/s]\n",
            "liblapack-3.9.0      | 12 KB     | : 100% 1.0/1 [00:00<00:00, 32.99it/s]\n",
            "joblib-1.1.0         | 210 KB    | : 100% 1.0/1 [00:00<00:00, 11.10it/s]\n",
            "jinja2-3.1.1         | 99 KB     | : 100% 1.0/1 [00:00<00:00, 17.77it/s]\n",
            "attrs-21.4.0         | 49 KB     | : 100% 1.0/1 [00:00<00:00, 25.20it/s]\n",
            "libtiff-4.2.0        | 639 KB    | : 100% 1.0/1 [00:00<00:00,  6.85it/s]\n",
            "smart_open-5.2.1     | 43 KB     | : 100% 1.0/1 [00:00<00:00, 26.29it/s]\n",
            "zipp-3.8.0           | 12 KB     | : 100% 1.0/1 [00:00<00:00, 30.90it/s]\n",
            "spacy-2.2.3          | 9.1 MB    | : 100% 1.0/1 [00:08<00:00,  8.09s/it]               \n",
            "cycler-0.11.0        | 10 KB     | : 100% 1.0/1 [00:00<00:00, 33.25it/s]\n",
            "catalogue-1.0.0      | 13 KB     | : 100% 1.0/1 [00:00<00:00,  3.51it/s]\n",
            "openssl-1.1.1n       | 2.1 MB    | : 100% 1.0/1 [00:00<00:00,  2.84it/s]\n",
            "libblas-3.9.0        | 12 KB     | : 100% 1.0/1 [00:00<00:00, 31.33it/s]\n",
            "freetype-2.10.4      | 890 KB    | : 100% 1.0/1 [00:00<00:00,  5.72it/s]\n",
            "cython-blis-0.4.1    | 4.3 MB    | : 100% 1.0/1 [00:02<00:00,  2.46s/it]               \n",
            "kiwisolver-1.4.2     | 73 KB     | : 100% 1.0/1 [00:00<00:00, 22.72it/s]\n",
            "regex-2022.3.15      | 375 KB    | : 100% 1.0/1 [00:00<00:00, 11.39it/s]\n",
            "seaborn-0.11.0       | 4 KB      | : 100% 1.0/1 [00:00<00:00, 29.89it/s]\n",
            "libpng-1.6.37        | 306 KB    | : 100% 1.0/1 [00:00<00:00, 11.84it/s]\n",
            "srsly-1.0.5          | 209 KB    | : 100% 1.0/1 [00:00<00:00,  2.96it/s]                \n",
            "matplotlib-base-3.4. | 7.2 MB    | : 100% 1.0/1 [00:01<00:00,  1.23s/it]\n",
            "seaborn-base-0.11.0  | 216 KB    | : 100% 1.0/1 [00:00<00:00, 11.66it/s]\n",
            "pyldavis-2.1.2       | 84 KB     | : 100% 1.0/1 [00:00<00:00,  3.16it/s]                \n",
            "libwebp-base-1.2.2   | 824 KB    | : 100% 1.0/1 [00:00<00:00,  6.09it/s]\n",
            "scikit-learn-0.23.1  | 6.8 MB    | : 100% 1.0/1 [00:01<00:00,  1.99s/it]               \n",
            "psutil-5.9.0         | 342 KB    | : 100% 1.0/1 [00:00<00:00,  9.13it/s]\n",
            "click-8.1.2          | 145 KB    | : 100% 1.0/1 [00:00<00:00, 15.15it/s]\n",
            "libopenblas-0.3.20   | 10.1 MB   | : 100% 1.0/1 [00:01<00:00,  1.79s/it]               \n",
            "funcy-1.17           | 30 KB     | : 100% 1.0/1 [00:00<00:00,  3.63it/s]              \n",
            "debugpy-1.6.0        | 2.0 MB    | : 100% 1.0/1 [00:00<00:00,  1.90it/s]\n",
            "importlib-metadata-4 | 33 KB     | : 100% 1.0/1 [00:00<00:00, 24.15it/s]\n",
            "scipy-1.7.3          | 21.8 MB   | : 100% 1.0/1 [00:03<00:00,  3.77s/it]               \n",
            "patsy-0.5.2          | 188 KB    | : 100% 1.0/1 [00:00<00:00, 11.93it/s]\n",
            "nomkl-1.0            | 4 KB      | : 100% 1.0/1 [00:00<00:00, 25.77it/s]\n",
            "pyparsing-3.0.8      | 79 KB     | : 100% 1.0/1 [00:00<00:00, 21.16it/s]\n",
            "thinc-7.3.0          | 1.7 MB    | : 100% 1.0/1 [00:01<00:00,  1.37s/it]\n",
            "lcms2-2.12           | 443 KB    | : 100% 1.0/1 [00:00<00:00,  9.85it/s]\n",
            "libgfortran-ng-11.2. | 23 KB     | : 100% 1.0/1 [00:00<00:00, 29.84it/s]\n",
            "cymem-2.0.6          | 42 KB     | : 100% 1.0/1 [00:00<00:00, 28.09it/s]\n",
            "typing_extensions-4. | 29 KB     | : 100% 1.0/1 [00:00<00:00, 27.92it/s]\n",
            "numpy-1.21.6         | 6.1 MB    | : 100% 1.0/1 [00:01<00:00,  1.44s/it]\n",
            "markupsafe-2.1.1     | 22 KB     | : 100% 1.0/1 [00:00<00:00, 30.16it/s]\n",
            "libcblas-3.9.0       | 12 KB     | : 100% 1.0/1 [00:00<00:00, 29.98it/s]\n",
            "ipykernel-6.13.0     | 185 KB    | : 100% 1.0/1 [00:00<00:00, 11.18it/s]\n",
            "importlib_metadata-4 | 4 KB      | : 100% 1.0/1 [00:00<00:00, 33.79it/s]\n",
            "future-0.18.2        | 713 KB    | : 100% 1.0/1 [00:00<00:00,  4.87it/s]\n",
            "jpeg-9e              | 269 KB    | : 100% 1.0/1 [00:00<00:00, 12.87it/s]\n",
            "wasabi-0.9.1         | 25 KB     | : 100% 1.0/1 [00:00<00:00, 21.24it/s]\n",
            "olefile-0.46         | 32 KB     | : 100% 1.0/1 [00:00<00:00, 27.67it/s]\n",
            "importlib_resources- | 22 KB     | : 100% 1.0/1 [00:00<00:00, 27.68it/s]\n",
            "typing-extensions-4. | 8 KB      | : 100% 1.0/1 [00:00<00:00, 33.60it/s]\n",
            "jsonschema-4.4.0     | 57 KB     | : 100% 1.0/1 [00:00<00:00, 17.32it/s]\n",
            "statsmodels-0.13.2   | 11.4 MB   | : 100% 1.0/1 [00:02<00:00,  2.27s/it]               \n",
            "packaging-21.3       | 36 KB     | : 100% 1.0/1 [00:00<00:00, 29.70it/s]\n",
            "Preparing transaction: - \b\b\\ \b\b| \b\b/ \b\b- \b\b\\ \b\b| \b\bdone\n",
            "Verifying transaction: - \b\b\\ \b\b| \b\b/ \b\b- \b\b\\ \b\b| \b\b/ \b\b- \b\b\\ \b\b| \b\b/ \b\b- \b\b\\ \b\b| \b\b/ \b\b- \b\b\\ \b\b| \b\b/ \b\b- \b\b\\ \b\b| \b\b/ \b\b- \b\b\\ \b\b| \b\b/ \b\b- \b\b\\ \b\b| \b\b/ \b\b- \b\b\\ \b\b| \b\b/ \b\b- \b\b\\ \b\b| \b\b/ \b\b- \b\b\\ \b\b| \b\b/ \b\b- \b\b\\ \b\b| \b\b/ \b\bdone\n",
            "Executing transaction: \\ \b\b| \b\b/ \b\b- \b\b\\ \b\b| \b\b/ \b\b- \b\b\\ \b\b| \b\b/ \b\b- \b\b\\ \b\b| \b\b/ \b\b- \b\b\\ \b\b| \b\b/ \b\b- \b\b\\ \b\b| \b\b/ \b\b- \b\b\\ \b\b| \b\b/ \b\b- \b\b\\ \b\b| \b\b/ \b\b- \b\b\\ \b\b| \b\b/ \b\b- \b\b\\ \b\b| \b\b/ \b\b- \b\b\\ \b\b| \b\b/ \b\b- \b\b\\ \b\b| \b\b/ \b\b- \b\b\\ \b\b| \b\b/ \b\b- \b\b\\ \b\b| \b\b/ \b\b- \b\b\\ \b\b| \b\b/ \b\b- \b\b\\ \b\b| \b\bdone\n"
          ]
        }
      ]
    },
    {
      "cell_type": "markdown",
      "source": [
        "### colab, conda 생성<br>\n",
        "- 맞는건지 모름"
      ],
      "metadata": {
        "id": "2VeK5OjKHGNm"
      }
    },
    {
      "cell_type": "code",
      "source": [
        "!pip install -q condacolab"
      ],
      "metadata": {
        "id": "6TEmmcyfzkUA"
      },
      "execution_count": null,
      "outputs": []
    },
    {
      "cell_type": "code",
      "source": [
        "import condacolab\n",
        "condacolab.install()"
      ],
      "metadata": {
        "colab": {
          "base_uri": "https://localhost:8080/"
        },
        "id": "qCHeGoiEzr6t",
        "outputId": "8e76310d-bd54-4d06-9365-3da7ea7ca288"
      },
      "execution_count": null,
      "outputs": [
        {
          "output_type": "stream",
          "name": "stdout",
          "text": [
            "✨🍰✨ Everything looks OK!\n"
          ]
        }
      ]
    },
    {
      "cell_type": "code",
      "source": [
        "import sys\n",
        "sys.path"
      ],
      "metadata": {
        "colab": {
          "base_uri": "https://localhost:8080/"
        },
        "id": "oKRrbw_ozwc6",
        "outputId": "bf59bfec-fe96-4442-bc59-495b1d3a1ad0"
      },
      "execution_count": null,
      "outputs": [
        {
          "output_type": "execute_result",
          "data": {
            "text/plain": [
              "['/usr/local/lib/python3.7/site-packages',\n",
              " '',\n",
              " '/content',\n",
              " '/env/python',\n",
              " '/usr/lib/python37.zip',\n",
              " '/usr/lib/python3.7',\n",
              " '/usr/lib/python3.7/lib-dynload',\n",
              " '/usr/local/lib/python3.7/dist-packages',\n",
              " '/usr/lib/python3/dist-packages',\n",
              " '/usr/local/lib/python3.7/dist-packages/IPython/extensions',\n",
              " '/root/.ipython']"
            ]
          },
          "metadata": {},
          "execution_count": 2
        }
      ]
    },
    {
      "cell_type": "code",
      "source": [
        "%%shell\n",
        "python --version"
      ],
      "metadata": {
        "colab": {
          "base_uri": "https://localhost:8080/"
        },
        "id": "S4hsPo5Z0K4r",
        "outputId": "d010276e-6171-4287-f58d-adcd62b1bf25"
      },
      "execution_count": null,
      "outputs": [
        {
          "output_type": "stream",
          "name": "stdout",
          "text": [
            "Python 3.7.10\n"
          ]
        },
        {
          "output_type": "execute_result",
          "data": {
            "text/plain": [
              ""
            ]
          },
          "metadata": {},
          "execution_count": 3
        }
      ]
    },
    {
      "cell_type": "code",
      "source": [
        "import condacolab\n",
        "condacolab.check()"
      ],
      "metadata": {
        "colab": {
          "base_uri": "https://localhost:8080/"
        },
        "id": "8pYZdh110Na8",
        "outputId": "295ee96a-f870-49e8-8f58-3b4e1365a0d1"
      },
      "execution_count": null,
      "outputs": [
        {
          "output_type": "stream",
          "name": "stdout",
          "text": [
            "✨🍰✨ Everything looks OK!\n"
          ]
        }
      ]
    },
    {
      "cell_type": "markdown",
      "source": [
        "### 필수 패키지 설치\n"
      ],
      "metadata": {
        "id": "O0PKNzN3Hony"
      }
    },
    {
      "cell_type": "code",
      "source": [
        "import yaml"
      ],
      "metadata": {
        "id": "Rh7S5JFM0PBl"
      },
      "execution_count": null,
      "outputs": []
    },
    {
      "cell_type": "code",
      "source": [
        "import torch"
      ],
      "metadata": {
        "id": "vxpsk9ND2_R5"
      },
      "execution_count": null,
      "outputs": []
    },
    {
      "cell_type": "code",
      "source": [
        "!pip install jupyter"
      ],
      "metadata": {
        "id": "aZuDhQcSA6aL"
      },
      "execution_count": null,
      "outputs": []
    },
    {
      "cell_type": "code",
      "source": [
        "!conda install ipykernel"
      ],
      "metadata": {
        "id": "eK2W4Vfz8oQ7"
      },
      "execution_count": null,
      "outputs": []
    },
    {
      "cell_type": "code",
      "source": [
        "!pip install pandas\n",
        "!pip install psutil\n",
        "!pip install sklearn\n",
        "!pip install seaborn"
      ],
      "metadata": {
        "id": "tOExnsq6Ewn6"
      },
      "execution_count": null,
      "outputs": []
    },
    {
      "cell_type": "code",
      "source": [
        "!pip install -r /content/drive/MyDrive/requirements.txt"
      ],
      "metadata": {
        "id": "uO8-v5vD6UIB",
        "colab": {
          "base_uri": "https://localhost:8080/"
        },
        "outputId": "37419eec-3652-4aef-b406-0494985f893e"
      },
      "execution_count": 56,
      "outputs": [
        {
          "output_type": "stream",
          "name": "stdout",
          "text": [
            "Requirement already satisfied: gensim==3.8.1 in /usr/local/lib/python3.7/site-packages (from -r /content/drive/MyDrive/requirements.txt (line 2)) (3.8.1)\n",
            "Requirement already satisfied: pyLDAvis==2.1.2 in /usr/local/lib/python3.7/site-packages (from -r /content/drive/MyDrive/requirements.txt (line 3)) (2.1.2)\n",
            "Requirement already satisfied: spacy==2.2.3 in /usr/local/lib/python3.7/site-packages (from -r /content/drive/MyDrive/requirements.txt (line 4)) (2.2.3)\n",
            "Collecting scikit-learn==0.23.1\n",
            "  Downloading scikit_learn-0.23.1-cp37-cp37m-manylinux1_x86_64.whl (6.8 MB)\n",
            "\u001b[K     |████████████████████████████████| 6.8 MB 3.7 MB/s \n",
            "\u001b[?25hCollecting seaborn==0.11.0\n",
            "  Downloading seaborn-0.11.0-py3-none-any.whl (283 kB)\n",
            "\u001b[K     |████████████████████████████████| 283 kB 48.8 MB/s \n",
            "\u001b[?25hRequirement already satisfied: squarify==0.4.3 in /usr/local/lib/python3.7/site-packages (from -r /content/drive/MyDrive/requirements.txt (line 7)) (0.4.3)\n",
            "Requirement already satisfied: ipykernel in /usr/local/lib/python3.7/site-packages (from -r /content/drive/MyDrive/requirements.txt (line 8)) (6.13.0)\n",
            "Requirement already satisfied: nltk in /usr/local/lib/python3.7/site-packages (from -r /content/drive/MyDrive/requirements.txt (line 9)) (3.6.7)\n",
            "Requirement already satisfied: pandas in /usr/local/lib/python3.7/site-packages (from -r /content/drive/MyDrive/requirements.txt (line 10)) (1.3.5)\n",
            "Requirement already satisfied: scipy in /usr/local/lib/python3.7/site-packages (from -r /content/drive/MyDrive/requirements.txt (line 11)) (1.7.3)\n",
            "Requirement already satisfied: six>=1.5.0 in /usr/local/lib/python3.7/site-packages (from gensim==3.8.1->-r /content/drive/MyDrive/requirements.txt (line 2)) (1.15.0)\n",
            "Requirement already satisfied: numpy>=1.11.3 in /usr/local/lib/python3.7/site-packages (from gensim==3.8.1->-r /content/drive/MyDrive/requirements.txt (line 2)) (1.21.6)\n",
            "Requirement already satisfied: smart-open>=1.8.1 in /usr/local/lib/python3.7/site-packages (from gensim==3.8.1->-r /content/drive/MyDrive/requirements.txt (line 2)) (5.2.1)\n",
            "Requirement already satisfied: joblib>=0.8.4 in /usr/local/lib/python3.7/site-packages (from pyLDAvis==2.1.2->-r /content/drive/MyDrive/requirements.txt (line 3)) (1.1.0)\n",
            "Requirement already satisfied: wheel>=0.23.0 in /usr/local/lib/python3.7/site-packages (from pyLDAvis==2.1.2->-r /content/drive/MyDrive/requirements.txt (line 3)) (0.36.2)\n",
            "Requirement already satisfied: future in /usr/local/lib/python3.7/site-packages (from pyLDAvis==2.1.2->-r /content/drive/MyDrive/requirements.txt (line 3)) (0.18.2)\n",
            "Requirement already satisfied: funcy in /usr/local/lib/python3.7/site-packages (from pyLDAvis==2.1.2->-r /content/drive/MyDrive/requirements.txt (line 3)) (1.17)\n",
            "Collecting pytest\n",
            "  Downloading pytest-7.1.1-py3-none-any.whl (297 kB)\n",
            "\u001b[K     |████████████████████████████████| 297 kB 50.4 MB/s \n",
            "\u001b[?25hRequirement already satisfied: jinja2>=2.7.2 in /usr/local/lib/python3.7/site-packages (from pyLDAvis==2.1.2->-r /content/drive/MyDrive/requirements.txt (line 3)) (3.1.1)\n",
            "Requirement already satisfied: numexpr in /usr/local/lib/python3.7/site-packages (from pyLDAvis==2.1.2->-r /content/drive/MyDrive/requirements.txt (line 3)) (2.8.0)\n",
            "Requirement already satisfied: threadpoolctl>=2.0.0 in /usr/local/lib/python3.7/site-packages (from scikit-learn==0.23.1->-r /content/drive/MyDrive/requirements.txt (line 5)) (3.1.0)\n",
            "Requirement already satisfied: matplotlib>=2.2 in /usr/local/lib/python3.7/site-packages (from seaborn==0.11.0->-r /content/drive/MyDrive/requirements.txt (line 6)) (3.5.1)\n",
            "Requirement already satisfied: plac<1.2.0,>=0.9.6 in /usr/local/lib/python3.7/site-packages (from spacy==2.2.3->-r /content/drive/MyDrive/requirements.txt (line 4)) (0.9.6)\n",
            "Requirement already satisfied: murmurhash<1.1.0,>=0.28.0 in /usr/local/lib/python3.7/site-packages (from spacy==2.2.3->-r /content/drive/MyDrive/requirements.txt (line 4)) (1.0.6)\n",
            "Requirement already satisfied: cymem<2.1.0,>=2.0.2 in /usr/local/lib/python3.7/site-packages (from spacy==2.2.3->-r /content/drive/MyDrive/requirements.txt (line 4)) (2.0.6)\n",
            "Requirement already satisfied: preshed<3.1.0,>=3.0.2 in /usr/local/lib/python3.7/site-packages (from spacy==2.2.3->-r /content/drive/MyDrive/requirements.txt (line 4)) (3.0.6)\n",
            "Requirement already satisfied: wasabi<1.1.0,>=0.4.0 in /usr/local/lib/python3.7/site-packages (from spacy==2.2.3->-r /content/drive/MyDrive/requirements.txt (line 4)) (0.9.1)\n",
            "Requirement already satisfied: srsly<1.1.0,>=0.1.0 in /usr/local/lib/python3.7/site-packages (from spacy==2.2.3->-r /content/drive/MyDrive/requirements.txt (line 4)) (1.0.5)\n",
            "Requirement already satisfied: thinc<7.4.0,>=7.3.0 in /usr/local/lib/python3.7/site-packages (from spacy==2.2.3->-r /content/drive/MyDrive/requirements.txt (line 4)) (7.3.0)\n",
            "Requirement already satisfied: blis<0.5.0,>=0.4.0 in /usr/local/lib/python3.7/site-packages (from spacy==2.2.3->-r /content/drive/MyDrive/requirements.txt (line 4)) (0.4.1)\n",
            "Requirement already satisfied: catalogue<1.1.0,>=0.0.7 in /usr/local/lib/python3.7/site-packages (from spacy==2.2.3->-r /content/drive/MyDrive/requirements.txt (line 4)) (1.0.0)\n",
            "Requirement already satisfied: requests<3.0.0,>=2.13.0 in /usr/local/lib/python3.7/site-packages (from spacy==2.2.3->-r /content/drive/MyDrive/requirements.txt (line 4)) (2.25.1)\n",
            "Requirement already satisfied: setuptools in /usr/local/lib/python3.7/site-packages (from spacy==2.2.3->-r /content/drive/MyDrive/requirements.txt (line 4)) (49.6.0.post20210108)\n",
            "Requirement already satisfied: python-dateutil>=2.7.3 in /usr/local/lib/python3.7/site-packages (from pandas->-r /content/drive/MyDrive/requirements.txt (line 10)) (2.8.2)\n",
            "Requirement already satisfied: pytz>=2017.3 in /usr/local/lib/python3.7/site-packages (from pandas->-r /content/drive/MyDrive/requirements.txt (line 10)) (2022.1)\n",
            "Requirement already satisfied: importlib-metadata>=0.20 in /usr/local/lib/python3.7/site-packages (from catalogue<1.1.0,>=0.0.7->spacy==2.2.3->-r /content/drive/MyDrive/requirements.txt (line 4)) (4.11.3)\n",
            "Requirement already satisfied: zipp>=0.5 in /usr/local/lib/python3.7/site-packages (from importlib-metadata>=0.20->catalogue<1.1.0,>=0.0.7->spacy==2.2.3->-r /content/drive/MyDrive/requirements.txt (line 4)) (3.8.0)\n",
            "Requirement already satisfied: typing-extensions>=3.6.4 in /usr/local/lib/python3.7/site-packages (from importlib-metadata>=0.20->catalogue<1.1.0,>=0.0.7->spacy==2.2.3->-r /content/drive/MyDrive/requirements.txt (line 4)) (4.1.1)\n",
            "Requirement already satisfied: MarkupSafe>=2.0 in /usr/local/lib/python3.7/site-packages (from jinja2>=2.7.2->pyLDAvis==2.1.2->-r /content/drive/MyDrive/requirements.txt (line 3)) (2.1.1)\n",
            "Requirement already satisfied: fonttools>=4.22.0 in /usr/local/lib/python3.7/site-packages (from matplotlib>=2.2->seaborn==0.11.0->-r /content/drive/MyDrive/requirements.txt (line 6)) (4.32.0)\n",
            "Requirement already satisfied: cycler>=0.10 in /usr/local/lib/python3.7/site-packages (from matplotlib>=2.2->seaborn==0.11.0->-r /content/drive/MyDrive/requirements.txt (line 6)) (0.11.0)\n",
            "Requirement already satisfied: packaging>=20.0 in /usr/local/lib/python3.7/site-packages (from matplotlib>=2.2->seaborn==0.11.0->-r /content/drive/MyDrive/requirements.txt (line 6)) (21.3)\n",
            "Requirement already satisfied: kiwisolver>=1.0.1 in /usr/local/lib/python3.7/site-packages (from matplotlib>=2.2->seaborn==0.11.0->-r /content/drive/MyDrive/requirements.txt (line 6)) (1.4.2)\n",
            "Requirement already satisfied: pillow>=6.2.0 in /usr/local/lib/python3.7/site-packages (from matplotlib>=2.2->seaborn==0.11.0->-r /content/drive/MyDrive/requirements.txt (line 6)) (9.1.0)\n",
            "Requirement already satisfied: pyparsing>=2.2.1 in /usr/local/lib/python3.7/site-packages (from matplotlib>=2.2->seaborn==0.11.0->-r /content/drive/MyDrive/requirements.txt (line 6)) (3.0.8)\n",
            "Requirement already satisfied: urllib3<1.27,>=1.21.1 in /usr/local/lib/python3.7/site-packages (from requests<3.0.0,>=2.13.0->spacy==2.2.3->-r /content/drive/MyDrive/requirements.txt (line 4)) (1.26.3)\n",
            "Requirement already satisfied: chardet<5,>=3.0.2 in /usr/local/lib/python3.7/site-packages (from requests<3.0.0,>=2.13.0->spacy==2.2.3->-r /content/drive/MyDrive/requirements.txt (line 4)) (4.0.0)\n",
            "Requirement already satisfied: certifi>=2017.4.17 in /usr/local/lib/python3.7/site-packages (from requests<3.0.0,>=2.13.0->spacy==2.2.3->-r /content/drive/MyDrive/requirements.txt (line 4)) (2021.10.8)\n",
            "Requirement already satisfied: idna<3,>=2.5 in /usr/local/lib/python3.7/site-packages (from requests<3.0.0,>=2.13.0->spacy==2.2.3->-r /content/drive/MyDrive/requirements.txt (line 4)) (2.10)\n",
            "Requirement already satisfied: tqdm<5.0.0,>=4.10.0 in /usr/local/lib/python3.7/site-packages (from thinc<7.4.0,>=7.3.0->spacy==2.2.3->-r /content/drive/MyDrive/requirements.txt (line 4)) (4.59.0)\n",
            "Requirement already satisfied: ipython>=7.23.1 in /usr/local/lib/python3.7/site-packages (from ipykernel->-r /content/drive/MyDrive/requirements.txt (line 8)) (7.32.0)\n",
            "Requirement already satisfied: tornado>=6.1 in /usr/local/lib/python3.7/site-packages (from ipykernel->-r /content/drive/MyDrive/requirements.txt (line 8)) (6.1)\n",
            "Requirement already satisfied: jupyter-client>=6.1.12 in /usr/local/lib/python3.7/site-packages (from ipykernel->-r /content/drive/MyDrive/requirements.txt (line 8)) (7.2.2)\n",
            "Requirement already satisfied: nest-asyncio in /usr/local/lib/python3.7/site-packages (from ipykernel->-r /content/drive/MyDrive/requirements.txt (line 8)) (1.5.5)\n",
            "Requirement already satisfied: traitlets>=5.1.0 in /usr/local/lib/python3.7/site-packages (from ipykernel->-r /content/drive/MyDrive/requirements.txt (line 8)) (5.1.1)\n",
            "Requirement already satisfied: matplotlib-inline>=0.1 in /usr/local/lib/python3.7/site-packages (from ipykernel->-r /content/drive/MyDrive/requirements.txt (line 8)) (0.1.3)\n",
            "Requirement already satisfied: debugpy>=1.0 in /usr/local/lib/python3.7/site-packages (from ipykernel->-r /content/drive/MyDrive/requirements.txt (line 8)) (1.6.0)\n",
            "Requirement already satisfied: psutil in /usr/local/lib/python3.7/site-packages (from ipykernel->-r /content/drive/MyDrive/requirements.txt (line 8)) (5.9.0)\n",
            "Requirement already satisfied: decorator in /usr/local/lib/python3.7/site-packages (from ipython>=7.23.1->ipykernel->-r /content/drive/MyDrive/requirements.txt (line 8)) (5.1.1)\n",
            "Requirement already satisfied: pexpect>4.3 in /usr/local/lib/python3.7/site-packages (from ipython>=7.23.1->ipykernel->-r /content/drive/MyDrive/requirements.txt (line 8)) (4.8.0)\n",
            "Requirement already satisfied: jedi>=0.16 in /usr/local/lib/python3.7/site-packages (from ipython>=7.23.1->ipykernel->-r /content/drive/MyDrive/requirements.txt (line 8)) (0.18.1)\n",
            "Requirement already satisfied: backcall in /usr/local/lib/python3.7/site-packages (from ipython>=7.23.1->ipykernel->-r /content/drive/MyDrive/requirements.txt (line 8)) (0.2.0)\n",
            "Requirement already satisfied: pygments in /usr/local/lib/python3.7/site-packages (from ipython>=7.23.1->ipykernel->-r /content/drive/MyDrive/requirements.txt (line 8)) (2.11.2)\n",
            "Requirement already satisfied: pickleshare in /usr/local/lib/python3.7/site-packages (from ipython>=7.23.1->ipykernel->-r /content/drive/MyDrive/requirements.txt (line 8)) (0.7.5)\n",
            "Requirement already satisfied: prompt-toolkit!=3.0.0,!=3.0.1,<3.1.0,>=2.0.0 in /usr/local/lib/python3.7/site-packages (from ipython>=7.23.1->ipykernel->-r /content/drive/MyDrive/requirements.txt (line 8)) (3.0.29)\n",
            "Requirement already satisfied: parso<0.9.0,>=0.8.0 in /usr/local/lib/python3.7/site-packages (from jedi>=0.16->ipython>=7.23.1->ipykernel->-r /content/drive/MyDrive/requirements.txt (line 8)) (0.8.3)\n",
            "Requirement already satisfied: entrypoints in /usr/local/lib/python3.7/site-packages (from jupyter-client>=6.1.12->ipykernel->-r /content/drive/MyDrive/requirements.txt (line 8)) (0.4)\n",
            "Requirement already satisfied: jupyter-core>=4.9.2 in /usr/local/lib/python3.7/site-packages (from jupyter-client>=6.1.12->ipykernel->-r /content/drive/MyDrive/requirements.txt (line 8)) (4.9.2)\n",
            "Requirement already satisfied: pyzmq>=22.3 in /usr/local/lib/python3.7/site-packages (from jupyter-client>=6.1.12->ipykernel->-r /content/drive/MyDrive/requirements.txt (line 8)) (22.3.0)\n",
            "Requirement already satisfied: ptyprocess>=0.5 in /usr/local/lib/python3.7/site-packages (from pexpect>4.3->ipython>=7.23.1->ipykernel->-r /content/drive/MyDrive/requirements.txt (line 8)) (0.7.0)\n",
            "Requirement already satisfied: wcwidth in /usr/local/lib/python3.7/site-packages (from prompt-toolkit!=3.0.0,!=3.0.1,<3.1.0,>=2.0.0->ipython>=7.23.1->ipykernel->-r /content/drive/MyDrive/requirements.txt (line 8)) (0.2.5)\n",
            "Requirement already satisfied: click in /usr/local/lib/python3.7/site-packages (from nltk->-r /content/drive/MyDrive/requirements.txt (line 9)) (8.1.2)\n",
            "Requirement already satisfied: regex>=2021.8.3 in /usr/local/lib/python3.7/site-packages (from nltk->-r /content/drive/MyDrive/requirements.txt (line 9)) (2022.3.15)\n",
            "Collecting tomli>=1.0.0\n",
            "  Downloading tomli-2.0.1-py3-none-any.whl (12 kB)\n",
            "Collecting py>=1.8.2\n",
            "  Downloading py-1.11.0-py2.py3-none-any.whl (98 kB)\n",
            "\u001b[K     |████████████████████████████████| 98 kB 8.0 MB/s \n",
            "\u001b[?25hCollecting pluggy<2.0,>=0.12\n",
            "  Downloading pluggy-1.0.0-py2.py3-none-any.whl (13 kB)\n",
            "Requirement already satisfied: attrs>=19.2.0 in /usr/local/lib/python3.7/site-packages (from pytest->pyLDAvis==2.1.2->-r /content/drive/MyDrive/requirements.txt (line 3)) (21.4.0)\n",
            "Collecting iniconfig\n",
            "  Downloading iniconfig-1.1.1-py2.py3-none-any.whl (5.0 kB)\n",
            "Installing collected packages: tomli, py, pluggy, iniconfig, pytest, seaborn, scikit-learn\n",
            "  Attempting uninstall: seaborn\n",
            "    Found existing installation: seaborn 0.11.2\n",
            "    Uninstalling seaborn-0.11.2:\n",
            "      Successfully uninstalled seaborn-0.11.2\n",
            "  Attempting uninstall: scikit-learn\n",
            "    Found existing installation: scikit-learn 1.0.2\n",
            "    Uninstalling scikit-learn-1.0.2:\n",
            "      Successfully uninstalled scikit-learn-1.0.2\n",
            "Successfully installed iniconfig-1.1.1 pluggy-1.0.0 py-1.11.0 pytest-7.1.1 scikit-learn-0.23.1 seaborn-0.11.0 tomli-2.0.1\n"
          ]
        }
      ]
    },
    {
      "cell_type": "code",
      "source": [
        "!which work"
      ],
      "metadata": {
        "id": "pO_Q3-yYPFh8"
      },
      "execution_count": null,
      "outputs": []
    },
    {
      "cell_type": "markdown",
      "source": [
        "## 음식양추정\n",
        "- py 파일 있는 곳으로 이동한 후 실행"
      ],
      "metadata": {
        "id": "lVWhi1h6IaXT"
      }
    },
    {
      "cell_type": "markdown",
      "source": [
        "폴더 구조<br>\n",
        "- 음식양추정 폴더 ```/content/drive/MyDrive/Colab_Notebooks/음식양추정```\n",
        "\n",
        "\n",
        "\n",
        "![image.png](data:image/png;base64,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)"
      ],
      "metadata": {
        "id": "rN1Wi9emLsqk"
      }
    },
    {
      "cell_type": "code",
      "source": [
        "%cd /content/drive/MyDrive/Colab_Notebooks/food/quantity_est/image/test"
      ],
      "metadata": {
        "id": "e_HpHBH4F3YS",
        "colab": {
          "base_uri": "https://localhost:8080/"
        },
        "outputId": "e51ff582-4bf0-45fc-b71f-2d6240bb8491"
      },
      "execution_count": null,
      "outputs": [
        {
          "output_type": "stream",
          "name": "stdout",
          "text": [
            "[Errno 2] No such file or directory: '/content/drive/MyDrive/Colab_Notebooks/food/quantity_est/image/test'\n",
            "/content\n"
          ]
        }
      ]
    },
    {
      "cell_type": "code",
      "source": [
        "%cd /content/drive/MyDrive/Colab_Notebooks/food/quantity_est"
      ],
      "metadata": {
        "colab": {
          "base_uri": "https://localhost:8080/"
        },
        "id": "G1UeqSrnM4vl",
        "outputId": "2380d104-db6e-4d52-95a7-b31d0b661272"
      },
      "execution_count": 53,
      "outputs": [
        {
          "output_type": "stream",
          "name": "stdout",
          "text": [
            "/content/drive/MyDrive/Colab_Notebooks/food/quantity_est\n"
          ]
        }
      ]
    },
    {
      "cell_type": "code",
      "source": [
        "!pwd"
      ],
      "metadata": {
        "id": "Plah46PXfTot",
        "colab": {
          "base_uri": "https://localhost:8080/"
        },
        "outputId": "82fe4520-fe45-4b4e-f8f4-b8cfc1e276f2"
      },
      "execution_count": 54,
      "outputs": [
        {
          "output_type": "stream",
          "name": "stdout",
          "text": [
            "/content/drive/MyDrive/Colab_Notebooks/food/quantity_est\n"
          ]
        }
      ]
    },
    {
      "cell_type": "code",
      "source": [
        "!pip install torchvision"
      ],
      "metadata": {
        "colab": {
          "base_uri": "https://localhost:8080/"
        },
        "id": "c3n47V2WMElT",
        "outputId": "a7ae244f-c57a-45d1-e013-5064dc6b5470"
      },
      "execution_count": 58,
      "outputs": [
        {
          "output_type": "stream",
          "name": "stdout",
          "text": [
            "Collecting torchvision\n",
            "  Downloading torchvision-0.12.0-cp37-cp37m-manylinux1_x86_64.whl (21.0 MB)\n",
            "\u001b[K     |████████████████████████████████| 21.0 MB 1.7 MB/s \n",
            "\u001b[?25hRequirement already satisfied: pillow!=8.3.*,>=5.3.0 in /usr/local/lib/python3.7/site-packages (from torchvision) (9.1.0)\n",
            "Requirement already satisfied: torch==1.11.0 in /usr/local/lib/python3.7/site-packages (from torchvision) (1.11.0)\n",
            "Requirement already satisfied: numpy in /usr/local/lib/python3.7/site-packages (from torchvision) (1.21.6)\n",
            "Requirement already satisfied: requests in /usr/local/lib/python3.7/site-packages (from torchvision) (2.25.1)\n",
            "Requirement already satisfied: typing-extensions in /usr/local/lib/python3.7/site-packages (from torchvision) (4.1.1)\n",
            "Requirement already satisfied: urllib3<1.27,>=1.21.1 in /usr/local/lib/python3.7/site-packages (from requests->torchvision) (1.26.3)\n",
            "Requirement already satisfied: chardet<5,>=3.0.2 in /usr/local/lib/python3.7/site-packages (from requests->torchvision) (4.0.0)\n",
            "Requirement already satisfied: certifi>=2017.4.17 in /usr/local/lib/python3.7/site-packages (from requests->torchvision) (2021.10.8)\n",
            "Requirement already satisfied: idna<3,>=2.5 in /usr/local/lib/python3.7/site-packages (from requests->torchvision) (2.10)\n",
            "Installing collected packages: torchvision\n",
            "Successfully installed torchvision-0.12.0\n"
          ]
        }
      ]
    },
    {
      "cell_type": "code",
      "source": [
        "!python3 /content/drive/MyDrive/Colab_Notebooks/food/quantity_est/resnet_test_t.py"
      ],
      "metadata": {
        "id": "nvBlTxqcEuvK",
        "colab": {
          "base_uri": "https://localhost:8080/"
        },
        "outputId": "a04c1c92-34af-447b-f693-6182bc5f83c9"
      },
      "execution_count": 118,
      "outputs": [
        {
          "output_type": "stream",
          "name": "stdout",
          "text": [
            "/content/drive/MyDrive/Colab_Notebooks/food/quantity_est\n",
            "Session START : 2022-04-17 UTC 16:50:41\n",
            "===============================================================\n",
            "GPU                  :\t Tesla K80\n",
            "OS                   :\t Linux\n",
            "Process information  :\t x86_64\n",
            "Process Architecture :\t x86_64\n",
            "RAM Size             :\t 13(GB)\n",
            "===============================================================\n",
            "Pytorch\n",
            "torch 1.11.0+cu102\n",
            "numpy 1.21.6\n",
            "torchvision 1.11.0+cu102\n",
            "matplotlib 3.4.3\n",
            "pillow 8.2.0\n",
            "pandas 1.3.5\n",
            "seaborn 0.11.0\n",
            "psutil 5.9.0\n",
            "===============================================================\n",
            "/usr/local/lib/python3.7/site-packages/torch/utils/data/dataloader.py:490: UserWarning: This DataLoader will create 4 worker processes in total. Our suggested max number of worker in current system is 2, which is smaller than what this DataLoader is going to create. Please be aware that excessive worker creation might get DataLoader running slow or even freeze, lower the worker number to avoid potential slowness/freeze if necessary.\n",
            "  cpuset_checked))\n",
            "\t T :\t ./image/test/Q1/side_건더기국류_뚝배기_갈비탕_Q1_00001.JPG\n",
            "\t T :\t ./image/test/Q1/side_건더기국류_뚝배기_갈비탕_Q1_00004.JPG\n",
            "\t F :\t ./image/test/Q1/side_건더기국류_뚝배기_갈비탕_Q1_00003.JPG\n",
            "\t T :\t ./image/test/Q1/side_건더기국류_뚝배기_갈비탕_Q1_00005.JPG\n",
            "\t T :\t ./image/test/Q1/side_건더기국류_뚝배기_갈비탕_Q1_00002.JPG\n",
            "\t T :\t ./image/test/Q2/side_건더기국류_뚝배기_갈비탕_Q2_00001.JPG\n",
            "\t T :\t ./image/test/Q2/side_건더기국류_뚝배기_갈비탕_Q2_00002.JPG\n",
            "\t T :\t ./image/test/Q2/side_건더기국류_뚝배기_갈비탕_Q2_00005.JPG\n",
            "\t T :\t ./image/test/Q2/side_건더기국류_뚝배기_갈비탕_Q2_00004.JPG\n",
            "\t T :\t ./image/test/Q2/side_건더기국류_뚝배기_갈비탕_Q2_00003.JPG\n",
            "\t F :\t ./image/test/Q3/side_건더기국류_뚝배기_갈비탕_Q3_00002.JPG\n",
            "\t F :\t ./image/test/Q3/side_건더기국류_뚝배기_갈비탕_Q3_00001.JPG\n",
            "\t F :\t ./image/test/Q3/side_건더기국류_뚝배기_갈비탕_Q3_00005.JPG\n",
            "\t F :\t ./image/test/Q3/side_건더기국류_뚝배기_갈비탕_Q3_00003.JPG\n",
            "\t F :\t ./image/test/Q3/side_건더기국류_뚝배기_갈비탕_Q3_00004.JPG\n",
            "\t F :\t ./image/test/Q4/side_건더기국류_뚝배기_갈비탕_Q4_00002.JPG\n",
            "\t F :\t ./image/test/Q4/side_건더기국류_뚝배기_갈비탕_Q4_00001.JPG\n",
            "\t F :\t ./image/test/Q4/side_건더기국류_뚝배기_갈비탕_Q4_00005.JPG\n",
            "\t F :\t ./image/test/Q4/side_건더기국류_뚝배기_갈비탕_Q4_00003.JPG\n",
            "\t F :\t ./image/test/Q4/side_건더기국류_뚝배기_갈비탕_Q4_00004.JPG\n",
            "\t F :\t ./image/test/Q5/side_건더기국류_뚝배기_갈비탕_Q5_00002.JPG\n",
            "\t F :\t ./image/test/Q5/side_건더기국류_뚝배기_갈비탕_Q5_00001.JPG\n",
            "\t F :\t ./image/test/Q5/side_건더기국류_뚝배기_갈비탕_Q5_00004.JPG\n",
            "\t F :\t ./image/test/Q5/side_건더기국류_뚝배기_갈비탕_Q5_00003.JPG\n",
            "\t F :\t ./image/test/Q5/side_건더기국류_뚝배기_갈비탕_Q5_00005.JPG\n",
            "===============================================================\n",
            "ResNet Confusion Matrix\n",
            "---------------------------------------------------------------\n",
            "    Q1  ...  Q5\n",
            "Q1   4  ...   0\n",
            "Q2   0  ...   0\n",
            "Q3   0  ...   0\n",
            "Q4   0  ...   0\n",
            "Q5   0  ...   0\n",
            "\n",
            "[5 rows x 5 columns]\n",
            "===============================================================\n",
            "/usr/local/lib/python3.7/site-packages/sklearn/metrics/_classification.py:1221: UndefinedMetricWarning: Precision and F-score are ill-defined and being set to 0.0 in labels with no predicted samples. Use `zero_division` parameter to control this behavior.\n",
            "  _warn_prf(average, modifier, msg_start, len(result))\n",
            "              precision    recall  f1-score   support\n",
            "\n",
            "          Q1       1.00      0.80      0.89         5\n",
            "          Q2       0.29      1.00      0.45         5\n",
            "          Q3       0.00      0.00      0.00         5\n",
            "          Q4       0.00      0.00      0.00         5\n",
            "          Q5       0.00      0.00      0.00         5\n",
            "\n",
            "    accuracy                           0.36        25\n",
            "   macro avg       0.26      0.36      0.27        25\n",
            "weighted avg       0.26      0.36      0.27        25\n",
            "\n"
          ]
        }
      ]
    },
    {
      "cell_type": "markdown",
      "source": [
        "밑에는 테스트용 코드 무시해도 됨"
      ],
      "metadata": {
        "id": "5ujs0qXmJMoF"
      }
    },
    {
      "cell_type": "code",
      "source": [
        "%cd /content/drive/MyDrive/yolov3"
      ],
      "metadata": {
        "id": "v5LqUIb-8eiU"
      },
      "execution_count": null,
      "outputs": []
    },
    {
      "cell_type": "code",
      "source": [
        "!python3 /content/drive/MyDrive/yolov3/models.py"
      ],
      "metadata": {
        "id": "h8YavKRU9GxN"
      },
      "execution_count": null,
      "outputs": []
    },
    {
      "cell_type": "code",
      "source": [
        "%cd /content/drive/MyDrive/Colab_Notebooks/food/quantity_est/"
      ],
      "metadata": {
        "id": "h76ugniHCz7z"
      },
      "execution_count": null,
      "outputs": []
    },
    {
      "cell_type": "code",
      "source": [
        "!python3 /content/drive/MyDrive/Colab_Notebooks/food/quantity_est/resnet_test_t.py"
      ],
      "metadata": {
        "id": "vNRkN5TmGc8t"
      },
      "execution_count": null,
      "outputs": []
    },
    {
      "cell_type": "markdown",
      "source": [
        "checkpoints 어쩌구 에러날 때 그 폴더로 가서 지우기"
      ],
      "metadata": {
        "id": "APDE7zK2IBs4"
      }
    },
    {
      "cell_type": "code",
      "source": [
        "%cd image/test/"
      ],
      "metadata": {
        "id": "M__qu53XJP1v",
        "colab": {
          "base_uri": "https://localhost:8080/"
        },
        "outputId": "d1492efe-8440-446c-bcf4-e2c14a67eb58"
      },
      "execution_count": 114,
      "outputs": [
        {
          "output_type": "stream",
          "name": "stdout",
          "text": [
            "/content/drive/MyDrive/Colab_Notebooks/food/quantity_est/image/test\n"
          ]
        }
      ]
    },
    {
      "cell_type": "code",
      "source": [
        "!rm -rf .ipynb_checkpoints"
      ],
      "metadata": {
        "id": "anr0c1QSKmbV"
      },
      "execution_count": 115,
      "outputs": []
    },
    {
      "cell_type": "code",
      "source": [
        "!ls -a"
      ],
      "metadata": {
        "id": "2M2VKe63KqkD",
        "colab": {
          "base_uri": "https://localhost:8080/"
        },
        "outputId": "3891dd42-e881-4df1-c84b-3c9824cac0e0"
      },
      "execution_count": 110,
      "outputs": [
        {
          "output_type": "stream",
          "name": "stdout",
          "text": [
            "Q1  Q2\tQ3  Q4\tQ5\n"
          ]
        }
      ]
    },
    {
      "cell_type": "code",
      "source": [
        "!pwd"
      ],
      "metadata": {
        "id": "UsSUYw16KvGf",
        "colab": {
          "base_uri": "https://localhost:8080/"
        },
        "outputId": "202d7367-621b-4d16-8859-f35781e45b53"
      },
      "execution_count": 96,
      "outputs": [
        {
          "output_type": "stream",
          "name": "stdout",
          "text": [
            "/content/drive/MyDrive/Colab_Notebooks/food/quantity_est/image/test\n"
          ]
        }
      ]
    },
    {
      "cell_type": "code",
      "source": [
        "cd .."
      ],
      "metadata": {
        "colab": {
          "base_uri": "https://localhost:8080/"
        },
        "id": "kOKR-AtSXYAL",
        "outputId": "de499049-896d-4013-d1fc-116e1241859a"
      },
      "execution_count": 117,
      "outputs": [
        {
          "output_type": "stream",
          "name": "stdout",
          "text": [
            "/content/drive/MyDrive/Colab_Notebooks/food/quantity_est\n"
          ]
        }
      ]
    },
    {
      "cell_type": "markdown",
      "source": [
        "# 음식 분류"
      ],
      "metadata": {
        "id": "Ck5YaJ3ihf_d"
      }
    },
    {
      "cell_type": "markdown",
      "source": [
        "폴더 구조<br>\n",
        "- yolov3 위치 /content/drive/MyDrive/yolov3\n"
      ],
      "metadata": {
        "id": "arRO0XBXLOUT"
      }
    },
    {
      "cell_type": "markdown",
      "source": [
        "![image.png](data:image/png;base64,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)"
      ],
      "metadata": {
        "id": "dgZF_E0JLJoL"
      }
    },
    {
      "cell_type": "markdown",
      "source": [
        "#### 패키지 설치"
      ],
      "metadata": {
        "id": "8AEdlgQrJh-e"
      }
    },
    {
      "cell_type": "code",
      "source": [
        "import time\n",
        "import glob\n",
        "import torch\n",
        "import os\n",
        "\n",
        "from IPython.display import Image, clear_output"
      ],
      "metadata": {
        "id": "xjhJAiPqmm0s"
      },
      "execution_count": null,
      "outputs": []
    },
    {
      "cell_type": "code",
      "source": [
        "# 확인용 코드\n",
        "print('PyTorch %s %s' % (torch.__version__, torch.cuda.get_device_properties(0) if torch.cuda.is_available() else 'CPU'))"
      ],
      "metadata": {
        "colab": {
          "base_uri": "https://localhost:8080/"
        },
        "id": "N6uC2cNxwPpI",
        "outputId": "daa13c8f-efae-4705-bdb8-6697247347f4"
      },
      "execution_count": null,
      "outputs": [
        {
          "output_type": "stream",
          "name": "stdout",
          "text": [
            "PyTorch 1.11.0+cu102 _CudaDeviceProperties(name='Tesla T4', major=7, minor=5, total_memory=15109MB, multi_processor_count=40)\n"
          ]
        }
      ]
    },
    {
      "cell_type": "code",
      "source": [
        "%cd /content/drive/MyDrive/yolov3"
      ],
      "metadata": {
        "colab": {
          "base_uri": "https://localhost:8080/"
        },
        "id": "Qw_4YN0AhjGJ",
        "outputId": "246ea4c5-d215-4b18-f610-5c4e13159487"
      },
      "execution_count": null,
      "outputs": [
        {
          "output_type": "stream",
          "name": "stdout",
          "text": [
            "/content/drive/MyDrive/yolov3\n"
          ]
        }
      ]
    },
    {
      "cell_type": "code",
      "source": [
        "!pwd"
      ],
      "metadata": {
        "colab": {
          "base_uri": "https://localhost:8080/"
        },
        "id": "j7_IlBWFpPm-",
        "outputId": "c3a44427-5120-4f90-cd85-03f0e3bf38cd"
      },
      "execution_count": null,
      "outputs": [
        {
          "output_type": "stream",
          "name": "stdout",
          "text": [
            "/content/drive/MyDrive/yolov3\n"
          ]
        }
      ]
    },
    {
      "cell_type": "markdown",
      "source": [
        "#### 실행 코드\n",
        "- FOODDATA_validation_manual_v1.pptx - accuracy 코드\n",
        "- 돌아가는데 not detected 나옴"
      ],
      "metadata": {
        "id": "8dsa7AerKBQH"
      }
    },
    {
      "cell_type": "code",
      "source": [
        "!python3 detect_1231.py --cfg cfg/yolov3-spp-403cls.cfg --names data/403food.names --weights weights/best_403food_e200b150v2.pt"
      ],
      "metadata": {
        "id": "tIoefRkByA8N"
      },
      "execution_count": null,
      "outputs": []
    },
    {
      "cell_type": "markdown",
      "source": [
        "테스트용"
      ],
      "metadata": {
        "id": "VonQt6PGKkw0"
      }
    },
    {
      "cell_type": "code",
      "source": [
        "!python3 detect_1231.py\n",
        "#Image(filename='output/zidane.jpg', width=600)\n",
        "#Image(filename='output/test(1).jpg')"
      ],
      "metadata": {
        "id": "AYCR9DgvmR1K"
      },
      "execution_count": null,
      "outputs": []
    },
    {
      "cell_type": "markdown",
      "source": [
        "conda 가상환경 이미지 설치 가이드.docx 따라하다가 실패"
      ],
      "metadata": {
        "id": "O2CzIZi6KQR2"
      }
    },
    {
      "cell_type": "code",
      "source": [
        "!conda create -file ssafy.yaml"
      ],
      "metadata": {
        "id": "F-je_LZBnuCE"
      },
      "execution_count": null,
      "outputs": []
    }
  ]
}